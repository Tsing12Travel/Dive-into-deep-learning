{
 "cells": [
  {
   "cell_type": "code",
   "id": "initial_id",
   "metadata": {
    "collapsed": true,
    "ExecuteTime": {
     "end_time": "2024-09-16T07:28:08.661530Z",
     "start_time": "2024-09-16T07:28:05.392629Z"
    }
   },
   "source": [
    "import numpy as np\n",
    "import torch\n",
    "from torch.utils import data\n",
    "from d2l import torch as d2l\n",
    "\n",
    "true_w = torch.tensor([2, -3.4])\n",
    "true_b = 4.2\n",
    "features, labels = d2l.synthetic_data(true_w, true_b, 1000)"
   ],
   "outputs": [],
   "execution_count": 1
  },
  {
   "metadata": {
    "ExecuteTime": {
     "end_time": "2024-09-16T07:30:04.231301Z",
     "start_time": "2024-09-16T07:30:04.218232Z"
    }
   },
   "cell_type": "code",
   "source": [
    "def load_array(data_arrays, batch_size, is_train=True):  #@save\n",
    "    \"\"\"构造一个PyTorch数据迭代器\"\"\"\n",
    "    dataset = data.TensorDataset(*data_arrays)\n",
    "    return data.DataLoader(dataset, batch_size, shuffle=is_train)\n",
    "\n",
    "\n",
    "batch_size = 10\n",
    "data_iter = load_array((features, labels), batch_size)"
   ],
   "id": "1aeb4f7f140fa9eb",
   "outputs": [],
   "execution_count": 2
  },
  {
   "metadata": {
    "ExecuteTime": {
     "end_time": "2024-09-16T07:30:13.673405Z",
     "start_time": "2024-09-16T07:30:13.655045Z"
    }
   },
   "cell_type": "code",
   "source": "next(iter(data_iter))",
   "id": "d1a8983c9a14f50e",
   "outputs": [
    {
     "data": {
      "text/plain": [
       "[tensor([[ 0.2762,  1.1672],\n",
       "         [-0.7179, -0.2959],\n",
       "         [ 0.8829, -0.1109],\n",
       "         [ 0.9108, -0.4735],\n",
       "         [ 0.3079,  1.0571],\n",
       "         [-0.7561,  0.5394],\n",
       "         [ 1.8211,  0.1502],\n",
       "         [-0.9645, -1.2488],\n",
       "         [ 0.3404,  0.2724],\n",
       "         [-1.0120,  1.1749]]),\n",
       " tensor([[ 0.7846],\n",
       "         [ 3.7626],\n",
       "         [ 6.3432],\n",
       "         [ 7.6251],\n",
       "         [ 1.1954],\n",
       "         [ 0.8539],\n",
       "         [ 7.3107],\n",
       "         [ 6.5091],\n",
       "         [ 3.9689],\n",
       "         [-1.8336]])]"
      ]
     },
     "execution_count": 3,
     "metadata": {},
     "output_type": "execute_result"
    }
   ],
   "execution_count": 3
  },
  {
   "metadata": {
    "ExecuteTime": {
     "end_time": "2024-09-16T07:32:01.385400Z",
     "start_time": "2024-09-16T07:32:01.373566Z"
    }
   },
   "cell_type": "code",
   "source": [
    "# nn是神经网络的缩写\n",
    "from torch import nn\n",
    "\n",
    "net = nn.Sequential(nn.Linear(2, 1))"
   ],
   "id": "f8a04bcc03cc7e96",
   "outputs": [],
   "execution_count": 4
  },
  {
   "metadata": {
    "ExecuteTime": {
     "end_time": "2024-09-16T07:33:43.926444Z",
     "start_time": "2024-09-16T07:33:43.907565Z"
    }
   },
   "cell_type": "code",
   "source": [
    "net[0].weight.data.normal_(0, 0.01)\n",
    "net[0].bias.data.fill_(0)"
   ],
   "id": "dc7b3f7d5680bcca",
   "outputs": [
    {
     "data": {
      "text/plain": [
       "tensor([0.])"
      ]
     },
     "execution_count": 5,
     "metadata": {},
     "output_type": "execute_result"
    }
   ],
   "execution_count": 5
  },
  {
   "metadata": {
    "ExecuteTime": {
     "end_time": "2024-09-16T07:34:10.779280Z",
     "start_time": "2024-09-16T07:34:10.773458Z"
    }
   },
   "cell_type": "code",
   "source": "loss = nn.MSELoss()",
   "id": "be3d772d3733586",
   "outputs": [],
   "execution_count": 6
  },
  {
   "metadata": {
    "ExecuteTime": {
     "end_time": "2024-09-16T07:34:51.322993Z",
     "start_time": "2024-09-16T07:34:51.308952Z"
    }
   },
   "cell_type": "code",
   "source": "trainer = torch.optim.SGD(net.parameters(), lr=0.03)",
   "id": "a444b35858c67f2c",
   "outputs": [],
   "execution_count": 7
  },
  {
   "metadata": {
    "ExecuteTime": {
     "end_time": "2024-09-16T07:35:53.411261Z",
     "start_time": "2024-09-16T07:35:53.303989Z"
    }
   },
   "cell_type": "code",
   "source": [
    "num_epochs = 3\n",
    "for epoch in range(num_epochs):\n",
    "    for X, y in data_iter:\n",
    "        l = loss(net(X), y)\n",
    "        trainer.zero_grad()\n",
    "        l.backward()\n",
    "        trainer.step()\n",
    "    l = loss(net(features), labels)\n",
    "    print(f'epoch {epoch + 1}, loss {l:f}')"
   ],
   "id": "4b59e159a208a985",
   "outputs": [
    {
     "name": "stdout",
     "output_type": "stream",
     "text": [
      "epoch 1, loss 0.000261\n",
      "epoch 2, loss 0.000099\n",
      "epoch 3, loss 0.000101\n"
     ]
    }
   ],
   "execution_count": 8
  },
  {
   "metadata": {
    "ExecuteTime": {
     "end_time": "2024-09-16T07:38:25.740644Z",
     "start_time": "2024-09-16T07:38:25.725115Z"
    }
   },
   "cell_type": "code",
   "source": [
    "w = net[0].weight.data\n",
    "print('w的估计误差：', true_w - w.reshape(true_w.shape))\n",
    "b = net[0].bias.data\n",
    "print('b的估计误差：', true_b - b)"
   ],
   "id": "12a0fec846f9c2e4",
   "outputs": [
    {
     "name": "stdout",
     "output_type": "stream",
     "text": [
      "w的估计误差： tensor([-0.0002,  0.0016])\n",
      "b的估计误差： tensor([0.0003])\n"
     ]
    }
   ],
   "execution_count": 9
  },
  {
   "metadata": {},
   "cell_type": "code",
   "outputs": [],
   "execution_count": null,
   "source": "",
   "id": "5b10b8117a1886ee"
  }
 ],
 "metadata": {
  "kernelspec": {
   "display_name": "Python 3",
   "language": "python",
   "name": "python3"
  },
  "language_info": {
   "codemirror_mode": {
    "name": "ipython",
    "version": 2
   },
   "file_extension": ".py",
   "mimetype": "text/x-python",
   "name": "python",
   "nbconvert_exporter": "python",
   "pygments_lexer": "ipython2",
   "version": "2.7.6"
  }
 },
 "nbformat": 4,
 "nbformat_minor": 5
}
