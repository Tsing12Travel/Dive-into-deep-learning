{
 "cells": [
  {
   "cell_type": "code",
   "id": "095c3183-e585-4cbc-a1e3-aa6ede5744bb",
   "metadata": {
    "ExecuteTime": {
     "end_time": "2024-09-14T01:54:51.567778Z",
     "start_time": "2024-09-14T01:54:50.227270Z"
    }
   },
   "source": [
    "import torch"
   ],
   "outputs": [],
   "execution_count": 1
  },
  {
   "cell_type": "code",
   "execution_count": 2,
   "id": "239011e0-b1ee-46e8-a1bf-e70290f20223",
   "metadata": {
    "ExecuteTime": {
     "end_time": "2024-09-12T03:27:56.888352Z",
     "start_time": "2024-09-12T03:27:56.872281Z"
    }
   },
   "outputs": [],
   "source": [
    "x = torch.arange(12)"
   ]
  },
  {
   "cell_type": "code",
   "execution_count": 3,
   "id": "59e0a6e6-b4ba-41e3-89a4-095f06fe15ff",
   "metadata": {
    "ExecuteTime": {
     "end_time": "2024-09-12T03:28:00.417542Z",
     "start_time": "2024-09-12T03:28:00.402431Z"
    }
   },
   "outputs": [
    {
     "data": {
      "text/plain": [
       "torch.Size([12])"
      ]
     },
     "execution_count": 3,
     "metadata": {},
     "output_type": "execute_result"
    }
   ],
   "source": [
    "x.shape"
   ]
  },
  {
   "cell_type": "code",
   "execution_count": 4,
   "id": "7240be3a-36b8-4dac-a8fb-e46361a9c75f",
   "metadata": {
    "ExecuteTime": {
     "end_time": "2024-09-12T03:28:01.839803Z",
     "start_time": "2024-09-12T03:28:01.835378Z"
    }
   },
   "outputs": [
    {
     "data": {
      "text/plain": [
       "tensor([ 0,  1,  2,  3,  4,  5,  6,  7,  8,  9, 10, 11])"
      ]
     },
     "execution_count": 4,
     "metadata": {},
     "output_type": "execute_result"
    }
   ],
   "source": [
    "x"
   ]
  },
  {
   "cell_type": "code",
   "execution_count": 5,
   "id": "6a11d82a-9e6d-453b-9cdc-1b644ad57a45",
   "metadata": {
    "ExecuteTime": {
     "end_time": "2024-09-12T03:28:03.959331Z",
     "start_time": "2024-09-12T03:28:03.947571Z"
    }
   },
   "outputs": [
    {
     "data": {
      "text/plain": [
       "tensor(3)"
      ]
     },
     "execution_count": 5,
     "metadata": {},
     "output_type": "execute_result"
    }
   ],
   "source": [
    "x[3]"
   ]
  },
  {
   "cell_type": "code",
   "execution_count": 6,
   "id": "633e784f-ed55-4417-9641-c66a462aeffc",
   "metadata": {
    "ExecuteTime": {
     "end_time": "2024-09-12T03:28:06.817039Z",
     "start_time": "2024-09-12T03:28:06.804504Z"
    }
   },
   "outputs": [
    {
     "data": {
      "text/plain": [
       "3"
      ]
     },
     "execution_count": 6,
     "metadata": {},
     "output_type": "execute_result"
    }
   ],
   "source": [
    "x[3].item()"
   ]
  },
  {
   "cell_type": "code",
   "execution_count": 7,
   "id": "82b41874-49e7-4711-a53b-a1ed1df13f55",
   "metadata": {
    "ExecuteTime": {
     "end_time": "2024-09-12T03:28:09.495392Z",
     "start_time": "2024-09-12T03:28:09.486163Z"
    }
   },
   "outputs": [
    {
     "data": {
      "text/plain": [
       "tensor([[ 0,  1,  2,  3],\n",
       "        [ 4,  5,  6,  7],\n",
       "        [ 8,  9, 10, 11]])"
      ]
     },
     "execution_count": 7,
     "metadata": {},
     "output_type": "execute_result"
    }
   ],
   "source": [
    "x.reshape((-1, 4))"
   ]
  },
  {
   "cell_type": "code",
   "execution_count": 8,
   "id": "f07b4f95-6c29-4ae7-824b-94f777cba776",
   "metadata": {
    "ExecuteTime": {
     "end_time": "2024-09-12T03:28:11.643240Z",
     "start_time": "2024-09-12T03:28:11.625587Z"
    }
   },
   "outputs": [
    {
     "data": {
      "text/plain": [
       "12"
      ]
     },
     "execution_count": 8,
     "metadata": {},
     "output_type": "execute_result"
    }
   ],
   "source": [
    "len(x)"
   ]
  },
  {
   "cell_type": "code",
   "execution_count": 9,
   "id": "43d732f2-8a53-4bc4-b5c0-d491dceddb95",
   "metadata": {
    "ExecuteTime": {
     "end_time": "2024-09-12T03:28:45.909124Z",
     "start_time": "2024-09-12T03:28:45.896233Z"
    }
   },
   "outputs": [
    {
     "data": {
      "text/plain": [
       "torch.Size([12])"
      ]
     },
     "execution_count": 9,
     "metadata": {},
     "output_type": "execute_result"
    }
   ],
   "source": [
    "x.size()"
   ]
  },
  {
   "cell_type": "code",
   "id": "341660d00e97651f",
   "metadata": {
    "ExecuteTime": {
     "end_time": "2024-09-14T01:55:08.862963Z",
     "start_time": "2024-09-14T01:55:08.844827Z"
    }
   },
   "source": [
    "A = torch.arange(20).reshape(5, 4)\n",
    "A"
   ],
   "outputs": [
    {
     "data": {
      "text/plain": [
       "tensor([[ 0,  1,  2,  3],\n",
       "        [ 4,  5,  6,  7],\n",
       "        [ 8,  9, 10, 11],\n",
       "        [12, 13, 14, 15],\n",
       "        [16, 17, 18, 19]])"
      ]
     },
     "execution_count": 2,
     "metadata": {},
     "output_type": "execute_result"
    }
   ],
   "execution_count": 2
  },
  {
   "cell_type": "code",
   "execution_count": 11,
   "id": "69e995ab2d719ff1",
   "metadata": {
    "ExecuteTime": {
     "end_time": "2024-09-12T03:38:50.450125Z",
     "start_time": "2024-09-12T03:38:50.436921Z"
    }
   },
   "outputs": [
    {
     "data": {
      "text/plain": [
       "tensor([[ 0,  4,  8, 12, 16],\n",
       "        [ 1,  5,  9, 13, 17],\n",
       "        [ 2,  6, 10, 14, 18],\n",
       "        [ 3,  7, 11, 15, 19]])"
      ]
     },
     "execution_count": 11,
     "metadata": {},
     "output_type": "execute_result"
    }
   ],
   "source": [
    "A.T"
   ]
  },
  {
   "cell_type": "code",
   "execution_count": 12,
   "id": "4eb038b3c5546c26",
   "metadata": {
    "ExecuteTime": {
     "end_time": "2024-09-12T03:57:14.599558Z",
     "start_time": "2024-09-12T03:57:14.579013Z"
    }
   },
   "outputs": [
    {
     "data": {
      "text/plain": [
       "tensor([[ 0,  1,  2,  3],\n",
       "        [ 4,  6,  8, 10],\n",
       "        [12, 15, 18, 21],\n",
       "        [24, 28, 32, 36],\n",
       "        [40, 45, 50, 55]])"
      ]
     },
     "execution_count": 12,
     "metadata": {},
     "output_type": "execute_result"
    }
   ],
   "source": [
    "A.cumsum(axis=0)"
   ]
  },
  {
   "cell_type": "code",
   "execution_count": 2,
   "id": "7b0c00bd3a534aa5",
   "metadata": {},
   "outputs": [
    {
     "data": {
      "text/plain": [
       "(tensor([0., 1., 2., 3.]), tensor(6.))"
      ]
     },
     "execution_count": 2,
     "metadata": {},
     "output_type": "execute_result"
    }
   ],
   "source": [
    "x = torch.arange(4, dtype=torch.float32)\n",
    "x, x.sum()"
   ]
  },
  {
   "cell_type": "code",
   "id": "2170dd42-2491-4825-8d5e-9a075e6a73d8",
   "metadata": {
    "ExecuteTime": {
     "end_time": "2024-09-14T02:00:10.441742Z",
     "start_time": "2024-09-14T02:00:10.427757Z"
    }
   },
   "source": [
    "A = torch.arange(20, dtype=torch.float32).reshape(5, 4)\n",
    "A"
   ],
   "outputs": [
    {
     "data": {
      "text/plain": [
       "tensor([[ 0.,  1.,  2.,  3.],\n",
       "        [ 4.,  5.,  6.,  7.],\n",
       "        [ 8.,  9., 10., 11.],\n",
       "        [12., 13., 14., 15.],\n",
       "        [16., 17., 18., 19.]])"
      ]
     },
     "execution_count": 8,
     "metadata": {},
     "output_type": "execute_result"
    }
   ],
   "execution_count": 8
  },
  {
   "cell_type": "code",
   "execution_count": 4,
   "id": "b5f197cb-d68e-42b1-9612-5f71f51235c5",
   "metadata": {},
   "outputs": [
    {
     "data": {
      "text/plain": [
       "(torch.Size([5, 4]), tensor(190.))"
      ]
     },
     "execution_count": 4,
     "metadata": {},
     "output_type": "execute_result"
    }
   ],
   "source": [
    "A.shape, A.sum()"
   ]
  },
  {
   "cell_type": "code",
   "id": "eb62e49c-34ef-4943-ac0f-1326a497ee5f",
   "metadata": {
    "ExecuteTime": {
     "end_time": "2024-09-14T01:55:39.592141Z",
     "start_time": "2024-09-14T01:55:39.581741Z"
    }
   },
   "source": [
    "A_sum_axis0 = A.sum(axis=0)\n",
    "A_sum_axis0, A_sum_axis0.shape"
   ],
   "outputs": [
    {
     "data": {
      "text/plain": [
       "(tensor([40, 45, 50, 55]), torch.Size([4]))"
      ]
     },
     "execution_count": 3,
     "metadata": {},
     "output_type": "execute_result"
    }
   ],
   "execution_count": 3
  },
  {
   "cell_type": "code",
   "id": "8a6b65b2-2117-47eb-b2c1-94ec43cd2045",
   "metadata": {
    "ExecuteTime": {
     "end_time": "2024-09-14T01:57:19.854778Z",
     "start_time": "2024-09-14T01:57:19.849040Z"
    }
   },
   "source": [
    "A_sum_axis1 = A.sum(axis=1)\n",
    "A_sum_axis1, A_sum_axis1.shape"
   ],
   "outputs": [
    {
     "data": {
      "text/plain": [
       "(tensor([ 6, 22, 38, 54, 70]), torch.Size([5]))"
      ]
     },
     "execution_count": 5,
     "metadata": {},
     "output_type": "execute_result"
    }
   ],
   "execution_count": 5
  },
  {
   "metadata": {
    "ExecuteTime": {
     "end_time": "2024-09-14T01:58:45.363653Z",
     "start_time": "2024-09-14T01:58:45.353013Z"
    }
   },
   "cell_type": "code",
   "source": "A.sum(axis=[0, 1])",
   "id": "86f6d9da1adc6290",
   "outputs": [
    {
     "data": {
      "text/plain": [
       "tensor(190)"
      ]
     },
     "execution_count": 6,
     "metadata": {},
     "output_type": "execute_result"
    }
   ],
   "execution_count": 6
  },
  {
   "metadata": {
    "ExecuteTime": {
     "end_time": "2024-09-14T02:00:14.512228Z",
     "start_time": "2024-09-14T02:00:14.499985Z"
    }
   },
   "cell_type": "code",
   "source": "A.mean(), A.sum() / A.numel(), A.numel()",
   "id": "2e5a57ce02c3e4e6",
   "outputs": [
    {
     "data": {
      "text/plain": [
       "(tensor(9.5000), tensor(9.5000), 20)"
      ]
     },
     "execution_count": 9,
     "metadata": {},
     "output_type": "execute_result"
    }
   ],
   "execution_count": 9
  },
  {
   "metadata": {
    "ExecuteTime": {
     "end_time": "2024-09-14T02:15:22.536812Z",
     "start_time": "2024-09-14T02:15:22.519066Z"
    }
   },
   "cell_type": "code",
   "source": "A.mean(axis=0)",
   "id": "823f2b233106042a",
   "outputs": [
    {
     "data": {
      "text/plain": [
       "tensor([ 8.,  9., 10., 11.])"
      ]
     },
     "execution_count": 10,
     "metadata": {},
     "output_type": "execute_result"
    }
   ],
   "execution_count": 10
  },
  {
   "metadata": {
    "ExecuteTime": {
     "end_time": "2024-09-14T02:38:56.841280Z",
     "start_time": "2024-09-14T02:38:56.828036Z"
    }
   },
   "cell_type": "code",
   "source": "x = torch.arange(4, dtype=torch.float32)",
   "id": "834861389243d9bb",
   "outputs": [],
   "execution_count": 11
  },
  {
   "metadata": {
    "ExecuteTime": {
     "end_time": "2024-09-14T02:39:31.886810Z",
     "start_time": "2024-09-14T02:39:31.862211Z"
    }
   },
   "cell_type": "code",
   "source": "A.shape, x.shape, torch.mv(A, x)",
   "id": "bbdf3cc3bbb3fce9",
   "outputs": [
    {
     "data": {
      "text/plain": [
       "(torch.Size([5, 4]), torch.Size([4]), tensor([ 14.,  38.,  62.,  86., 110.]))"
      ]
     },
     "execution_count": 12,
     "metadata": {},
     "output_type": "execute_result"
    }
   ],
   "execution_count": 12
  },
  {
   "metadata": {
    "ExecuteTime": {
     "end_time": "2024-09-14T02:42:59.211463Z",
     "start_time": "2024-09-14T02:42:59.197820Z"
    }
   },
   "cell_type": "code",
   "source": [
    "B = torch.ones(4, 3)\n",
    "torch.mm(A, B)"
   ],
   "id": "9fed47fc6bd158ef",
   "outputs": [
    {
     "data": {
      "text/plain": [
       "tensor([[ 6.,  6.,  6.],\n",
       "        [22., 22., 22.],\n",
       "        [38., 38., 38.],\n",
       "        [54., 54., 54.],\n",
       "        [70., 70., 70.]])"
      ]
     },
     "execution_count": 13,
     "metadata": {},
     "output_type": "execute_result"
    }
   ],
   "execution_count": 13
  },
  {
   "metadata": {
    "ExecuteTime": {
     "end_time": "2024-09-14T02:46:46.861240Z",
     "start_time": "2024-09-14T02:46:46.842557Z"
    }
   },
   "cell_type": "code",
   "source": [
    "u = torch.tensor([3., -4])\n",
    "torch.norm(u)"
   ],
   "id": "ea63f86db828ae0",
   "outputs": [
    {
     "data": {
      "text/plain": [
       "tensor(5.)"
      ]
     },
     "execution_count": 14,
     "metadata": {},
     "output_type": "execute_result"
    }
   ],
   "execution_count": 14
  },
  {
   "metadata": {
    "ExecuteTime": {
     "end_time": "2024-09-14T10:33:09.586287Z",
     "start_time": "2024-09-14T10:33:06.941304Z"
    }
   },
   "cell_type": "code",
   "source": [
    "%matplotlib inline\n",
    "import torch\n",
    "from torch.distributions import multinomial\n",
    "from d2l import torch as d2l"
   ],
   "id": "71415dfcc078d5a1",
   "outputs": [],
   "execution_count": 1
  },
  {
   "metadata": {
    "ExecuteTime": {
     "end_time": "2024-09-14T10:33:17.483831Z",
     "start_time": "2024-09-14T10:33:17.470234Z"
    }
   },
   "cell_type": "code",
   "source": [
    "fair_probs = torch.ones([6]) / 6\n",
    "multinomial.Multinomial(1, fair_probs).sample()"
   ],
   "id": "b2bc3867cf44a44f",
   "outputs": [
    {
     "data": {
      "text/plain": [
       "tensor([0., 0., 0., 0., 0., 1.])"
      ]
     },
     "execution_count": 2,
     "metadata": {},
     "output_type": "execute_result"
    }
   ],
   "execution_count": 2
  },
  {
   "metadata": {
    "ExecuteTime": {
     "end_time": "2024-09-14T10:33:23.780375Z",
     "start_time": "2024-09-14T10:33:23.764457Z"
    }
   },
   "cell_type": "code",
   "source": "multinomial.Multinomial(10, fair_probs).sample()",
   "id": "602fd52f47caa80a",
   "outputs": [
    {
     "data": {
      "text/plain": [
       "tensor([1., 2., 2., 4., 0., 1.])"
      ]
     },
     "execution_count": 3,
     "metadata": {},
     "output_type": "execute_result"
    }
   ],
   "execution_count": 3
  },
  {
   "metadata": {
    "ExecuteTime": {
     "end_time": "2024-09-14T10:33:37.974399Z",
     "start_time": "2024-09-14T10:33:37.964047Z"
    }
   },
   "cell_type": "code",
   "source": [
    "# 将结果存储为32位浮点数以进行除法\n",
    "counts = multinomial.Multinomial(1000, fair_probs).sample()\n",
    "counts / 1000  # 相对频率作为估计值"
   ],
   "id": "32d049fef92635a3",
   "outputs": [
    {
     "data": {
      "text/plain": [
       "tensor([0.1280, 0.1930, 0.1920, 0.1590, 0.1640, 0.1640])"
      ]
     },
     "execution_count": 4,
     "metadata": {},
     "output_type": "execute_result"
    }
   ],
   "execution_count": 4
  },
  {
   "metadata": {
    "ExecuteTime": {
     "end_time": "2024-09-14T10:38:39.181138Z",
     "start_time": "2024-09-14T10:38:39.028466Z"
    }
   },
   "cell_type": "code",
   "source": [
    "counts = multinomial.Multinomial(10, fair_probs).sample((500,))\n",
    "cum_counts = counts.cumsum(dim=0)\n",
    "estimates = cum_counts / cum_counts.sum(dim=1, keepdims=True)\n",
    "\n",
    "d2l.set_figsize((6, 4.5))\n",
    "for i in range(6):\n",
    "    d2l.plt.plot(estimates[:, i].numpy(),\n",
    "                 label=(\"P(die=\" + str(i + 1) + \")\"))\n",
    "d2l.plt.axhline(y=0.167, color='black', linestyle='dashed')\n",
    "d2l.plt.gca().set_xlabel('Groups of experiments')\n",
    "d2l.plt.gca().set_ylabel('Estimated probability')\n",
    "d2l.plt.legend();"
   ],
   "id": "3790922eeb5b142f",
   "outputs": [
    {
     "data": {
      "text/plain": [
       "<Figure size 600x450 with 1 Axes>"
      ],
      "image/svg+xml": "<?xml version=\"1.0\" encoding=\"utf-8\" standalone=\"no\"?>\n<!DOCTYPE svg PUBLIC \"-//W3C//DTD SVG 1.1//EN\"\n  \"http://www.w3.org/Graphics/SVG/1.1/DTD/svg11.dtd\">\n<svg xmlns:xlink=\"http://www.w3.org/1999/xlink\" width=\"392.14375pt\" height=\"294.23625pt\" viewBox=\"0 0 392.14375 294.23625\" xmlns=\"http://www.w3.org/2000/svg\" version=\"1.1\">\n <metadata>\n  <rdf:RDF xmlns:dc=\"http://purl.org/dc/elements/1.1/\" xmlns:cc=\"http://creativecommons.org/ns#\" xmlns:rdf=\"http://www.w3.org/1999/02/22-rdf-syntax-ns#\">\n   <cc:Work>\n    <dc:type rdf:resource=\"http://purl.org/dc/dcmitype/StillImage\"/>\n    <dc:date>2024-09-14T18:38:39.136656</dc:date>\n    <dc:format>image/svg+xml</dc:format>\n    <dc:creator>\n     <cc:Agent>\n      <dc:title>Matplotlib v3.7.2, https://matplotlib.org/</dc:title>\n     </cc:Agent>\n    </dc:creator>\n   </cc:Work>\n  </rdf:RDF>\n </metadata>\n <defs>\n  <style type=\"text/css\">*{stroke-linejoin: round; stroke-linecap: butt}</style>\n </defs>\n <g id=\"figure_1\">\n  <g id=\"patch_1\">\n   <path d=\"M 0 294.23625 \nL 392.14375 294.23625 \nL 392.14375 0 \nL 0 0 \nz\n\" style=\"fill: #ffffff\"/>\n  </g>\n  <g id=\"axes_1\">\n   <g id=\"patch_2\">\n    <path d=\"M 50.14375 256.68 \nL 384.94375 256.68 \nL 384.94375 7.2 \nL 50.14375 7.2 \nz\n\" style=\"fill: #ffffff\"/>\n   </g>\n   <g id=\"matplotlib.axis_1\">\n    <g id=\"xtick_1\">\n     <g id=\"line2d_1\">\n      <defs>\n       <path id=\"m5c89fb7e9e\" d=\"M 0 0 \nL 0 3.5 \n\" style=\"stroke: #000000; stroke-width: 0.8\"/>\n      </defs>\n      <g>\n       <use xlink:href=\"#m5c89fb7e9e\" x=\"65.361932\" y=\"256.68\" style=\"stroke: #000000; stroke-width: 0.8\"/>\n      </g>\n     </g>\n     <g id=\"text_1\">\n      <!-- 0 -->\n      <g transform=\"translate(62.180682 271.278437) scale(0.1 -0.1)\">\n       <defs>\n        <path id=\"DejaVuSans-30\" d=\"M 2034 4250 \nQ 1547 4250 1301 3770 \nQ 1056 3291 1056 2328 \nQ 1056 1369 1301 889 \nQ 1547 409 2034 409 \nQ 2525 409 2770 889 \nQ 3016 1369 3016 2328 \nQ 3016 3291 2770 3770 \nQ 2525 4250 2034 4250 \nz\nM 2034 4750 \nQ 2819 4750 3233 4129 \nQ 3647 3509 3647 2328 \nQ 3647 1150 3233 529 \nQ 2819 -91 2034 -91 \nQ 1250 -91 836 529 \nQ 422 1150 422 2328 \nQ 422 3509 836 4129 \nQ 1250 4750 2034 4750 \nz\n\" transform=\"scale(0.015625)\"/>\n       </defs>\n       <use xlink:href=\"#DejaVuSans-30\"/>\n      </g>\n     </g>\n    </g>\n    <g id=\"xtick_2\">\n     <g id=\"line2d_2\">\n      <g>\n       <use xlink:href=\"#m5c89fb7e9e\" x=\"126.356649\" y=\"256.68\" style=\"stroke: #000000; stroke-width: 0.8\"/>\n      </g>\n     </g>\n     <g id=\"text_2\">\n      <!-- 100 -->\n      <g transform=\"translate(116.812899 271.278437) scale(0.1 -0.1)\">\n       <defs>\n        <path id=\"DejaVuSans-31\" d=\"M 794 531 \nL 1825 531 \nL 1825 4091 \nL 703 3866 \nL 703 4441 \nL 1819 4666 \nL 2450 4666 \nL 2450 531 \nL 3481 531 \nL 3481 0 \nL 794 0 \nL 794 531 \nz\n\" transform=\"scale(0.015625)\"/>\n       </defs>\n       <use xlink:href=\"#DejaVuSans-31\"/>\n       <use xlink:href=\"#DejaVuSans-30\" x=\"63.623047\"/>\n       <use xlink:href=\"#DejaVuSans-30\" x=\"127.246094\"/>\n      </g>\n     </g>\n    </g>\n    <g id=\"xtick_3\">\n     <g id=\"line2d_3\">\n      <g>\n       <use xlink:href=\"#m5c89fb7e9e\" x=\"187.351365\" y=\"256.68\" style=\"stroke: #000000; stroke-width: 0.8\"/>\n      </g>\n     </g>\n     <g id=\"text_3\">\n      <!-- 200 -->\n      <g transform=\"translate(177.807615 271.278437) scale(0.1 -0.1)\">\n       <defs>\n        <path id=\"DejaVuSans-32\" d=\"M 1228 531 \nL 3431 531 \nL 3431 0 \nL 469 0 \nL 469 531 \nQ 828 903 1448 1529 \nQ 2069 2156 2228 2338 \nQ 2531 2678 2651 2914 \nQ 2772 3150 2772 3378 \nQ 2772 3750 2511 3984 \nQ 2250 4219 1831 4219 \nQ 1534 4219 1204 4116 \nQ 875 4013 500 3803 \nL 500 4441 \nQ 881 4594 1212 4672 \nQ 1544 4750 1819 4750 \nQ 2544 4750 2975 4387 \nQ 3406 4025 3406 3419 \nQ 3406 3131 3298 2873 \nQ 3191 2616 2906 2266 \nQ 2828 2175 2409 1742 \nQ 1991 1309 1228 531 \nz\n\" transform=\"scale(0.015625)\"/>\n       </defs>\n       <use xlink:href=\"#DejaVuSans-32\"/>\n       <use xlink:href=\"#DejaVuSans-30\" x=\"63.623047\"/>\n       <use xlink:href=\"#DejaVuSans-30\" x=\"127.246094\"/>\n      </g>\n     </g>\n    </g>\n    <g id=\"xtick_4\">\n     <g id=\"line2d_4\">\n      <g>\n       <use xlink:href=\"#m5c89fb7e9e\" x=\"248.346082\" y=\"256.68\" style=\"stroke: #000000; stroke-width: 0.8\"/>\n      </g>\n     </g>\n     <g id=\"text_4\">\n      <!-- 300 -->\n      <g transform=\"translate(238.802332 271.278437) scale(0.1 -0.1)\">\n       <defs>\n        <path id=\"DejaVuSans-33\" d=\"M 2597 2516 \nQ 3050 2419 3304 2112 \nQ 3559 1806 3559 1356 \nQ 3559 666 3084 287 \nQ 2609 -91 1734 -91 \nQ 1441 -91 1130 -33 \nQ 819 25 488 141 \nL 488 750 \nQ 750 597 1062 519 \nQ 1375 441 1716 441 \nQ 2309 441 2620 675 \nQ 2931 909 2931 1356 \nQ 2931 1769 2642 2001 \nQ 2353 2234 1838 2234 \nL 1294 2234 \nL 1294 2753 \nL 1863 2753 \nQ 2328 2753 2575 2939 \nQ 2822 3125 2822 3475 \nQ 2822 3834 2567 4026 \nQ 2313 4219 1838 4219 \nQ 1578 4219 1281 4162 \nQ 984 4106 628 3988 \nL 628 4550 \nQ 988 4650 1302 4700 \nQ 1616 4750 1894 4750 \nQ 2613 4750 3031 4423 \nQ 3450 4097 3450 3541 \nQ 3450 3153 3228 2886 \nQ 3006 2619 2597 2516 \nz\n\" transform=\"scale(0.015625)\"/>\n       </defs>\n       <use xlink:href=\"#DejaVuSans-33\"/>\n       <use xlink:href=\"#DejaVuSans-30\" x=\"63.623047\"/>\n       <use xlink:href=\"#DejaVuSans-30\" x=\"127.246094\"/>\n      </g>\n     </g>\n    </g>\n    <g id=\"xtick_5\">\n     <g id=\"line2d_5\">\n      <g>\n       <use xlink:href=\"#m5c89fb7e9e\" x=\"309.340799\" y=\"256.68\" style=\"stroke: #000000; stroke-width: 0.8\"/>\n      </g>\n     </g>\n     <g id=\"text_5\">\n      <!-- 400 -->\n      <g transform=\"translate(299.797049 271.278437) scale(0.1 -0.1)\">\n       <defs>\n        <path id=\"DejaVuSans-34\" d=\"M 2419 4116 \nL 825 1625 \nL 2419 1625 \nL 2419 4116 \nz\nM 2253 4666 \nL 3047 4666 \nL 3047 1625 \nL 3713 1625 \nL 3713 1100 \nL 3047 1100 \nL 3047 0 \nL 2419 0 \nL 2419 1100 \nL 313 1100 \nL 313 1709 \nL 2253 4666 \nz\n\" transform=\"scale(0.015625)\"/>\n       </defs>\n       <use xlink:href=\"#DejaVuSans-34\"/>\n       <use xlink:href=\"#DejaVuSans-30\" x=\"63.623047\"/>\n       <use xlink:href=\"#DejaVuSans-30\" x=\"127.246094\"/>\n      </g>\n     </g>\n    </g>\n    <g id=\"xtick_6\">\n     <g id=\"line2d_6\">\n      <g>\n       <use xlink:href=\"#m5c89fb7e9e\" x=\"370.335515\" y=\"256.68\" style=\"stroke: #000000; stroke-width: 0.8\"/>\n      </g>\n     </g>\n     <g id=\"text_6\">\n      <!-- 500 -->\n      <g transform=\"translate(360.791765 271.278437) scale(0.1 -0.1)\">\n       <defs>\n        <path id=\"DejaVuSans-35\" d=\"M 691 4666 \nL 3169 4666 \nL 3169 4134 \nL 1269 4134 \nL 1269 2991 \nQ 1406 3038 1543 3061 \nQ 1681 3084 1819 3084 \nQ 2600 3084 3056 2656 \nQ 3513 2228 3513 1497 \nQ 3513 744 3044 326 \nQ 2575 -91 1722 -91 \nQ 1428 -91 1123 -41 \nQ 819 9 494 109 \nL 494 744 \nQ 775 591 1075 516 \nQ 1375 441 1709 441 \nQ 2250 441 2565 725 \nQ 2881 1009 2881 1497 \nQ 2881 1984 2565 2268 \nQ 2250 2553 1709 2553 \nQ 1456 2553 1204 2497 \nQ 953 2441 691 2322 \nL 691 4666 \nz\n\" transform=\"scale(0.015625)\"/>\n       </defs>\n       <use xlink:href=\"#DejaVuSans-35\"/>\n       <use xlink:href=\"#DejaVuSans-30\" x=\"63.623047\"/>\n       <use xlink:href=\"#DejaVuSans-30\" x=\"127.246094\"/>\n      </g>\n     </g>\n    </g>\n    <g id=\"text_7\">\n     <!-- Groups of experiments -->\n     <g transform=\"translate(160.397656 284.956562) scale(0.1 -0.1)\">\n      <defs>\n       <path id=\"DejaVuSans-47\" d=\"M 3809 666 \nL 3809 1919 \nL 2778 1919 \nL 2778 2438 \nL 4434 2438 \nL 4434 434 \nQ 4069 175 3628 42 \nQ 3188 -91 2688 -91 \nQ 1594 -91 976 548 \nQ 359 1188 359 2328 \nQ 359 3472 976 4111 \nQ 1594 4750 2688 4750 \nQ 3144 4750 3555 4637 \nQ 3966 4525 4313 4306 \nL 4313 3634 \nQ 3963 3931 3569 4081 \nQ 3175 4231 2741 4231 \nQ 1884 4231 1454 3753 \nQ 1025 3275 1025 2328 \nQ 1025 1384 1454 906 \nQ 1884 428 2741 428 \nQ 3075 428 3337 486 \nQ 3600 544 3809 666 \nz\n\" transform=\"scale(0.015625)\"/>\n       <path id=\"DejaVuSans-72\" d=\"M 2631 2963 \nQ 2534 3019 2420 3045 \nQ 2306 3072 2169 3072 \nQ 1681 3072 1420 2755 \nQ 1159 2438 1159 1844 \nL 1159 0 \nL 581 0 \nL 581 3500 \nL 1159 3500 \nL 1159 2956 \nQ 1341 3275 1631 3429 \nQ 1922 3584 2338 3584 \nQ 2397 3584 2469 3576 \nQ 2541 3569 2628 3553 \nL 2631 2963 \nz\n\" transform=\"scale(0.015625)\"/>\n       <path id=\"DejaVuSans-6f\" d=\"M 1959 3097 \nQ 1497 3097 1228 2736 \nQ 959 2375 959 1747 \nQ 959 1119 1226 758 \nQ 1494 397 1959 397 \nQ 2419 397 2687 759 \nQ 2956 1122 2956 1747 \nQ 2956 2369 2687 2733 \nQ 2419 3097 1959 3097 \nz\nM 1959 3584 \nQ 2709 3584 3137 3096 \nQ 3566 2609 3566 1747 \nQ 3566 888 3137 398 \nQ 2709 -91 1959 -91 \nQ 1206 -91 779 398 \nQ 353 888 353 1747 \nQ 353 2609 779 3096 \nQ 1206 3584 1959 3584 \nz\n\" transform=\"scale(0.015625)\"/>\n       <path id=\"DejaVuSans-75\" d=\"M 544 1381 \nL 544 3500 \nL 1119 3500 \nL 1119 1403 \nQ 1119 906 1312 657 \nQ 1506 409 1894 409 \nQ 2359 409 2629 706 \nQ 2900 1003 2900 1516 \nL 2900 3500 \nL 3475 3500 \nL 3475 0 \nL 2900 0 \nL 2900 538 \nQ 2691 219 2414 64 \nQ 2138 -91 1772 -91 \nQ 1169 -91 856 284 \nQ 544 659 544 1381 \nz\nM 1991 3584 \nL 1991 3584 \nz\n\" transform=\"scale(0.015625)\"/>\n       <path id=\"DejaVuSans-70\" d=\"M 1159 525 \nL 1159 -1331 \nL 581 -1331 \nL 581 3500 \nL 1159 3500 \nL 1159 2969 \nQ 1341 3281 1617 3432 \nQ 1894 3584 2278 3584 \nQ 2916 3584 3314 3078 \nQ 3713 2572 3713 1747 \nQ 3713 922 3314 415 \nQ 2916 -91 2278 -91 \nQ 1894 -91 1617 61 \nQ 1341 213 1159 525 \nz\nM 3116 1747 \nQ 3116 2381 2855 2742 \nQ 2594 3103 2138 3103 \nQ 1681 3103 1420 2742 \nQ 1159 2381 1159 1747 \nQ 1159 1113 1420 752 \nQ 1681 391 2138 391 \nQ 2594 391 2855 752 \nQ 3116 1113 3116 1747 \nz\n\" transform=\"scale(0.015625)\"/>\n       <path id=\"DejaVuSans-73\" d=\"M 2834 3397 \nL 2834 2853 \nQ 2591 2978 2328 3040 \nQ 2066 3103 1784 3103 \nQ 1356 3103 1142 2972 \nQ 928 2841 928 2578 \nQ 928 2378 1081 2264 \nQ 1234 2150 1697 2047 \nL 1894 2003 \nQ 2506 1872 2764 1633 \nQ 3022 1394 3022 966 \nQ 3022 478 2636 193 \nQ 2250 -91 1575 -91 \nQ 1294 -91 989 -36 \nQ 684 19 347 128 \nL 347 722 \nQ 666 556 975 473 \nQ 1284 391 1588 391 \nQ 1994 391 2212 530 \nQ 2431 669 2431 922 \nQ 2431 1156 2273 1281 \nQ 2116 1406 1581 1522 \nL 1381 1569 \nQ 847 1681 609 1914 \nQ 372 2147 372 2553 \nQ 372 3047 722 3315 \nQ 1072 3584 1716 3584 \nQ 2034 3584 2315 3537 \nQ 2597 3491 2834 3397 \nz\n\" transform=\"scale(0.015625)\"/>\n       <path id=\"DejaVuSans-20\" transform=\"scale(0.015625)\"/>\n       <path id=\"DejaVuSans-66\" d=\"M 2375 4863 \nL 2375 4384 \nL 1825 4384 \nQ 1516 4384 1395 4259 \nQ 1275 4134 1275 3809 \nL 1275 3500 \nL 2222 3500 \nL 2222 3053 \nL 1275 3053 \nL 1275 0 \nL 697 0 \nL 697 3053 \nL 147 3053 \nL 147 3500 \nL 697 3500 \nL 697 3744 \nQ 697 4328 969 4595 \nQ 1241 4863 1831 4863 \nL 2375 4863 \nz\n\" transform=\"scale(0.015625)\"/>\n       <path id=\"DejaVuSans-65\" d=\"M 3597 1894 \nL 3597 1613 \nL 953 1613 \nQ 991 1019 1311 708 \nQ 1631 397 2203 397 \nQ 2534 397 2845 478 \nQ 3156 559 3463 722 \nL 3463 178 \nQ 3153 47 2828 -22 \nQ 2503 -91 2169 -91 \nQ 1331 -91 842 396 \nQ 353 884 353 1716 \nQ 353 2575 817 3079 \nQ 1281 3584 2069 3584 \nQ 2775 3584 3186 3129 \nQ 3597 2675 3597 1894 \nz\nM 3022 2063 \nQ 3016 2534 2758 2815 \nQ 2500 3097 2075 3097 \nQ 1594 3097 1305 2825 \nQ 1016 2553 972 2059 \nL 3022 2063 \nz\n\" transform=\"scale(0.015625)\"/>\n       <path id=\"DejaVuSans-78\" d=\"M 3513 3500 \nL 2247 1797 \nL 3578 0 \nL 2900 0 \nL 1881 1375 \nL 863 0 \nL 184 0 \nL 1544 1831 \nL 300 3500 \nL 978 3500 \nL 1906 2253 \nL 2834 3500 \nL 3513 3500 \nz\n\" transform=\"scale(0.015625)\"/>\n       <path id=\"DejaVuSans-69\" d=\"M 603 3500 \nL 1178 3500 \nL 1178 0 \nL 603 0 \nL 603 3500 \nz\nM 603 4863 \nL 1178 4863 \nL 1178 4134 \nL 603 4134 \nL 603 4863 \nz\n\" transform=\"scale(0.015625)\"/>\n       <path id=\"DejaVuSans-6d\" d=\"M 3328 2828 \nQ 3544 3216 3844 3400 \nQ 4144 3584 4550 3584 \nQ 5097 3584 5394 3201 \nQ 5691 2819 5691 2113 \nL 5691 0 \nL 5113 0 \nL 5113 2094 \nQ 5113 2597 4934 2840 \nQ 4756 3084 4391 3084 \nQ 3944 3084 3684 2787 \nQ 3425 2491 3425 1978 \nL 3425 0 \nL 2847 0 \nL 2847 2094 \nQ 2847 2600 2669 2842 \nQ 2491 3084 2119 3084 \nQ 1678 3084 1418 2786 \nQ 1159 2488 1159 1978 \nL 1159 0 \nL 581 0 \nL 581 3500 \nL 1159 3500 \nL 1159 2956 \nQ 1356 3278 1631 3431 \nQ 1906 3584 2284 3584 \nQ 2666 3584 2933 3390 \nQ 3200 3197 3328 2828 \nz\n\" transform=\"scale(0.015625)\"/>\n       <path id=\"DejaVuSans-6e\" d=\"M 3513 2113 \nL 3513 0 \nL 2938 0 \nL 2938 2094 \nQ 2938 2591 2744 2837 \nQ 2550 3084 2163 3084 \nQ 1697 3084 1428 2787 \nQ 1159 2491 1159 1978 \nL 1159 0 \nL 581 0 \nL 581 3500 \nL 1159 3500 \nL 1159 2956 \nQ 1366 3272 1645 3428 \nQ 1925 3584 2291 3584 \nQ 2894 3584 3203 3211 \nQ 3513 2838 3513 2113 \nz\n\" transform=\"scale(0.015625)\"/>\n       <path id=\"DejaVuSans-74\" d=\"M 1172 4494 \nL 1172 3500 \nL 2356 3500 \nL 2356 3053 \nL 1172 3053 \nL 1172 1153 \nQ 1172 725 1289 603 \nQ 1406 481 1766 481 \nL 2356 481 \nL 2356 0 \nL 1766 0 \nQ 1100 0 847 248 \nQ 594 497 594 1153 \nL 594 3053 \nL 172 3053 \nL 172 3500 \nL 594 3500 \nL 594 4494 \nL 1172 4494 \nz\n\" transform=\"scale(0.015625)\"/>\n      </defs>\n      <use xlink:href=\"#DejaVuSans-47\"/>\n      <use xlink:href=\"#DejaVuSans-72\" x=\"77.490234\"/>\n      <use xlink:href=\"#DejaVuSans-6f\" x=\"116.353516\"/>\n      <use xlink:href=\"#DejaVuSans-75\" x=\"177.535156\"/>\n      <use xlink:href=\"#DejaVuSans-70\" x=\"240.914062\"/>\n      <use xlink:href=\"#DejaVuSans-73\" x=\"304.390625\"/>\n      <use xlink:href=\"#DejaVuSans-20\" x=\"356.490234\"/>\n      <use xlink:href=\"#DejaVuSans-6f\" x=\"388.277344\"/>\n      <use xlink:href=\"#DejaVuSans-66\" x=\"449.458984\"/>\n      <use xlink:href=\"#DejaVuSans-20\" x=\"484.664062\"/>\n      <use xlink:href=\"#DejaVuSans-65\" x=\"516.451172\"/>\n      <use xlink:href=\"#DejaVuSans-78\" x=\"576.224609\"/>\n      <use xlink:href=\"#DejaVuSans-70\" x=\"635.404297\"/>\n      <use xlink:href=\"#DejaVuSans-65\" x=\"698.880859\"/>\n      <use xlink:href=\"#DejaVuSans-72\" x=\"760.404297\"/>\n      <use xlink:href=\"#DejaVuSans-69\" x=\"801.517578\"/>\n      <use xlink:href=\"#DejaVuSans-6d\" x=\"829.300781\"/>\n      <use xlink:href=\"#DejaVuSans-65\" x=\"926.712891\"/>\n      <use xlink:href=\"#DejaVuSans-6e\" x=\"988.236328\"/>\n      <use xlink:href=\"#DejaVuSans-74\" x=\"1051.615234\"/>\n      <use xlink:href=\"#DejaVuSans-73\" x=\"1090.824219\"/>\n     </g>\n    </g>\n   </g>\n   <g id=\"matplotlib.axis_2\">\n    <g id=\"ytick_1\">\n     <g id=\"line2d_7\">\n      <defs>\n       <path id=\"m278efa68e2\" d=\"M 0 0 \nL -3.5 0 \n\" style=\"stroke: #000000; stroke-width: 0.8\"/>\n      </defs>\n      <g>\n       <use xlink:href=\"#m278efa68e2\" x=\"50.14375\" y=\"245.34\" style=\"stroke: #000000; stroke-width: 0.8\"/>\n      </g>\n     </g>\n     <g id=\"text_8\">\n      <!-- 0.00 -->\n      <g transform=\"translate(20.878125 249.139219) scale(0.1 -0.1)\">\n       <defs>\n        <path id=\"DejaVuSans-2e\" d=\"M 684 794 \nL 1344 794 \nL 1344 0 \nL 684 0 \nL 684 794 \nz\n\" transform=\"scale(0.015625)\"/>\n       </defs>\n       <use xlink:href=\"#DejaVuSans-30\"/>\n       <use xlink:href=\"#DejaVuSans-2e\" x=\"63.623047\"/>\n       <use xlink:href=\"#DejaVuSans-30\" x=\"95.410156\"/>\n       <use xlink:href=\"#DejaVuSans-30\" x=\"159.033203\"/>\n      </g>\n     </g>\n    </g>\n    <g id=\"ytick_2\">\n     <g id=\"line2d_8\">\n      <g>\n       <use xlink:href=\"#m278efa68e2\" x=\"50.14375\" y=\"207.540002\" style=\"stroke: #000000; stroke-width: 0.8\"/>\n      </g>\n     </g>\n     <g id=\"text_9\">\n      <!-- 0.05 -->\n      <g transform=\"translate(20.878125 211.33922) scale(0.1 -0.1)\">\n       <use xlink:href=\"#DejaVuSans-30\"/>\n       <use xlink:href=\"#DejaVuSans-2e\" x=\"63.623047\"/>\n       <use xlink:href=\"#DejaVuSans-30\" x=\"95.410156\"/>\n       <use xlink:href=\"#DejaVuSans-35\" x=\"159.033203\"/>\n      </g>\n     </g>\n    </g>\n    <g id=\"ytick_3\">\n     <g id=\"line2d_9\">\n      <g>\n       <use xlink:href=\"#m278efa68e2\" x=\"50.14375\" y=\"169.740003\" style=\"stroke: #000000; stroke-width: 0.8\"/>\n      </g>\n     </g>\n     <g id=\"text_10\">\n      <!-- 0.10 -->\n      <g transform=\"translate(20.878125 173.539222) scale(0.1 -0.1)\">\n       <use xlink:href=\"#DejaVuSans-30\"/>\n       <use xlink:href=\"#DejaVuSans-2e\" x=\"63.623047\"/>\n       <use xlink:href=\"#DejaVuSans-31\" x=\"95.410156\"/>\n       <use xlink:href=\"#DejaVuSans-30\" x=\"159.033203\"/>\n      </g>\n     </g>\n    </g>\n    <g id=\"ytick_4\">\n     <g id=\"line2d_10\">\n      <g>\n       <use xlink:href=\"#m278efa68e2\" x=\"50.14375\" y=\"131.940005\" style=\"stroke: #000000; stroke-width: 0.8\"/>\n      </g>\n     </g>\n     <g id=\"text_11\">\n      <!-- 0.15 -->\n      <g transform=\"translate(20.878125 135.739223) scale(0.1 -0.1)\">\n       <use xlink:href=\"#DejaVuSans-30\"/>\n       <use xlink:href=\"#DejaVuSans-2e\" x=\"63.623047\"/>\n       <use xlink:href=\"#DejaVuSans-31\" x=\"95.410156\"/>\n       <use xlink:href=\"#DejaVuSans-35\" x=\"159.033203\"/>\n      </g>\n     </g>\n    </g>\n    <g id=\"ytick_5\">\n     <g id=\"line2d_11\">\n      <g>\n       <use xlink:href=\"#m278efa68e2\" x=\"50.14375\" y=\"94.140006\" style=\"stroke: #000000; stroke-width: 0.8\"/>\n      </g>\n     </g>\n     <g id=\"text_12\">\n      <!-- 0.20 -->\n      <g transform=\"translate(20.878125 97.939225) scale(0.1 -0.1)\">\n       <use xlink:href=\"#DejaVuSans-30\"/>\n       <use xlink:href=\"#DejaVuSans-2e\" x=\"63.623047\"/>\n       <use xlink:href=\"#DejaVuSans-32\" x=\"95.410156\"/>\n       <use xlink:href=\"#DejaVuSans-30\" x=\"159.033203\"/>\n      </g>\n     </g>\n    </g>\n    <g id=\"ytick_6\">\n     <g id=\"line2d_12\">\n      <g>\n       <use xlink:href=\"#m278efa68e2\" x=\"50.14375\" y=\"56.340008\" style=\"stroke: #000000; stroke-width: 0.8\"/>\n      </g>\n     </g>\n     <g id=\"text_13\">\n      <!-- 0.25 -->\n      <g transform=\"translate(20.878125 60.139226) scale(0.1 -0.1)\">\n       <use xlink:href=\"#DejaVuSans-30\"/>\n       <use xlink:href=\"#DejaVuSans-2e\" x=\"63.623047\"/>\n       <use xlink:href=\"#DejaVuSans-32\" x=\"95.410156\"/>\n       <use xlink:href=\"#DejaVuSans-35\" x=\"159.033203\"/>\n      </g>\n     </g>\n    </g>\n    <g id=\"ytick_7\">\n     <g id=\"line2d_13\">\n      <g>\n       <use xlink:href=\"#m278efa68e2\" x=\"50.14375\" y=\"18.540009\" style=\"stroke: #000000; stroke-width: 0.8\"/>\n      </g>\n     </g>\n     <g id=\"text_14\">\n      <!-- 0.30 -->\n      <g transform=\"translate(20.878125 22.339228) scale(0.1 -0.1)\">\n       <use xlink:href=\"#DejaVuSans-30\"/>\n       <use xlink:href=\"#DejaVuSans-2e\" x=\"63.623047\"/>\n       <use xlink:href=\"#DejaVuSans-33\" x=\"95.410156\"/>\n       <use xlink:href=\"#DejaVuSans-30\" x=\"159.033203\"/>\n      </g>\n     </g>\n    </g>\n    <g id=\"text_15\">\n     <!-- Estimated probability -->\n     <g transform=\"translate(14.798438 185.463437) rotate(-90) scale(0.1 -0.1)\">\n      <defs>\n       <path id=\"DejaVuSans-45\" d=\"M 628 4666 \nL 3578 4666 \nL 3578 4134 \nL 1259 4134 \nL 1259 2753 \nL 3481 2753 \nL 3481 2222 \nL 1259 2222 \nL 1259 531 \nL 3634 531 \nL 3634 0 \nL 628 0 \nL 628 4666 \nz\n\" transform=\"scale(0.015625)\"/>\n       <path id=\"DejaVuSans-61\" d=\"M 2194 1759 \nQ 1497 1759 1228 1600 \nQ 959 1441 959 1056 \nQ 959 750 1161 570 \nQ 1363 391 1709 391 \nQ 2188 391 2477 730 \nQ 2766 1069 2766 1631 \nL 2766 1759 \nL 2194 1759 \nz\nM 3341 1997 \nL 3341 0 \nL 2766 0 \nL 2766 531 \nQ 2569 213 2275 61 \nQ 1981 -91 1556 -91 \nQ 1019 -91 701 211 \nQ 384 513 384 1019 \nQ 384 1609 779 1909 \nQ 1175 2209 1959 2209 \nL 2766 2209 \nL 2766 2266 \nQ 2766 2663 2505 2880 \nQ 2244 3097 1772 3097 \nQ 1472 3097 1187 3025 \nQ 903 2953 641 2809 \nL 641 3341 \nQ 956 3463 1253 3523 \nQ 1550 3584 1831 3584 \nQ 2591 3584 2966 3190 \nQ 3341 2797 3341 1997 \nz\n\" transform=\"scale(0.015625)\"/>\n       <path id=\"DejaVuSans-64\" d=\"M 2906 2969 \nL 2906 4863 \nL 3481 4863 \nL 3481 0 \nL 2906 0 \nL 2906 525 \nQ 2725 213 2448 61 \nQ 2172 -91 1784 -91 \nQ 1150 -91 751 415 \nQ 353 922 353 1747 \nQ 353 2572 751 3078 \nQ 1150 3584 1784 3584 \nQ 2172 3584 2448 3432 \nQ 2725 3281 2906 2969 \nz\nM 947 1747 \nQ 947 1113 1208 752 \nQ 1469 391 1925 391 \nQ 2381 391 2643 752 \nQ 2906 1113 2906 1747 \nQ 2906 2381 2643 2742 \nQ 2381 3103 1925 3103 \nQ 1469 3103 1208 2742 \nQ 947 2381 947 1747 \nz\n\" transform=\"scale(0.015625)\"/>\n       <path id=\"DejaVuSans-62\" d=\"M 3116 1747 \nQ 3116 2381 2855 2742 \nQ 2594 3103 2138 3103 \nQ 1681 3103 1420 2742 \nQ 1159 2381 1159 1747 \nQ 1159 1113 1420 752 \nQ 1681 391 2138 391 \nQ 2594 391 2855 752 \nQ 3116 1113 3116 1747 \nz\nM 1159 2969 \nQ 1341 3281 1617 3432 \nQ 1894 3584 2278 3584 \nQ 2916 3584 3314 3078 \nQ 3713 2572 3713 1747 \nQ 3713 922 3314 415 \nQ 2916 -91 2278 -91 \nQ 1894 -91 1617 61 \nQ 1341 213 1159 525 \nL 1159 0 \nL 581 0 \nL 581 4863 \nL 1159 4863 \nL 1159 2969 \nz\n\" transform=\"scale(0.015625)\"/>\n       <path id=\"DejaVuSans-6c\" d=\"M 603 4863 \nL 1178 4863 \nL 1178 0 \nL 603 0 \nL 603 4863 \nz\n\" transform=\"scale(0.015625)\"/>\n       <path id=\"DejaVuSans-79\" d=\"M 2059 -325 \nQ 1816 -950 1584 -1140 \nQ 1353 -1331 966 -1331 \nL 506 -1331 \nL 506 -850 \nL 844 -850 \nQ 1081 -850 1212 -737 \nQ 1344 -625 1503 -206 \nL 1606 56 \nL 191 3500 \nL 800 3500 \nL 1894 763 \nL 2988 3500 \nL 3597 3500 \nL 2059 -325 \nz\n\" transform=\"scale(0.015625)\"/>\n      </defs>\n      <use xlink:href=\"#DejaVuSans-45\"/>\n      <use xlink:href=\"#DejaVuSans-73\" x=\"63.183594\"/>\n      <use xlink:href=\"#DejaVuSans-74\" x=\"115.283203\"/>\n      <use xlink:href=\"#DejaVuSans-69\" x=\"154.492188\"/>\n      <use xlink:href=\"#DejaVuSans-6d\" x=\"182.275391\"/>\n      <use xlink:href=\"#DejaVuSans-61\" x=\"279.6875\"/>\n      <use xlink:href=\"#DejaVuSans-74\" x=\"340.966797\"/>\n      <use xlink:href=\"#DejaVuSans-65\" x=\"380.175781\"/>\n      <use xlink:href=\"#DejaVuSans-64\" x=\"441.699219\"/>\n      <use xlink:href=\"#DejaVuSans-20\" x=\"505.175781\"/>\n      <use xlink:href=\"#DejaVuSans-70\" x=\"536.962891\"/>\n      <use xlink:href=\"#DejaVuSans-72\" x=\"600.439453\"/>\n      <use xlink:href=\"#DejaVuSans-6f\" x=\"639.302734\"/>\n      <use xlink:href=\"#DejaVuSans-62\" x=\"700.484375\"/>\n      <use xlink:href=\"#DejaVuSans-61\" x=\"763.960938\"/>\n      <use xlink:href=\"#DejaVuSans-62\" x=\"825.240234\"/>\n      <use xlink:href=\"#DejaVuSans-69\" x=\"888.716797\"/>\n      <use xlink:href=\"#DejaVuSans-6c\" x=\"916.5\"/>\n      <use xlink:href=\"#DejaVuSans-69\" x=\"944.283203\"/>\n      <use xlink:href=\"#DejaVuSans-74\" x=\"972.066406\"/>\n      <use xlink:href=\"#DejaVuSans-79\" x=\"1011.275391\"/>\n     </g>\n    </g>\n   </g>\n   <g id=\"line2d_14\">\n    <path d=\"M 65.361932 245.34 \nL 66.581826 169.740002 \nL 67.191773 169.740002 \nL 67.80172 184.860004 \nL 68.411668 182.340001 \nL 69.021615 191.34 \nL 69.631562 169.740002 \nL 70.241509 169.740002 \nL 70.851456 147.060008 \nL 71.461403 142.249092 \nL 72.681298 123.216924 \nL 73.291245 131.94 \nL 73.901192 119.340001 \nL 74.511139 103.590006 \nL 75.121086 107.481179 \nL 75.731034 115.140002 \nL 76.950928 120.6 \nL 78.170822 125.06728 \nL 78.780769 120.435662 \nL 79.390717 125.640006 \nL 80.610611 123.216924 \nL 81.220558 124.940004 \nL 81.830505 129.240006 \nL 82.440452 125.422767 \nL 83.660347 123.404525 \nL 84.270294 127.215005 \nL 84.880241 128.50364 \nL 85.490188 131.94 \nL 86.100135 126.540001 \nL 87.32003 120.702165 \nL 87.929977 120.003166 \nL 89.149871 126.270006 \nL 89.759819 123.642447 \nL 91.58966 121.630919 \nL 92.199607 121.020003 \nL 92.809554 122.079131 \nL 94.029449 120.915 \nL 95.85929 123.78706 \nL 96.469237 126.124616 \nL 97.689132 127.74 \nL 98.299079 127.129096 \nL 98.909026 127.890009 \nL 99.518973 125.971588 \nL 100.738868 127.455259 \nL 101.348815 126.900005 \nL 102.568709 128.281939 \nL 103.178656 130.14 \nL 103.788603 130.758757 \nL 105.008498 129.649093 \nL 105.618445 130.247471 \nL 106.228392 127.492942 \nL 106.838339 127.009571 \nL 107.448286 127.620003 \nL 108.058234 127.148461 \nL 108.668181 128.790003 \nL 109.888075 129.89676 \nL 110.498022 129.420003 \nL 111.107969 127.961059 \nL 112.937811 129.547604 \nL 113.547758 129.105003 \nL 114.157705 129.606668 \nL 115.3776 128.75205 \nL 115.987547 130.14 \nL 116.597494 128.827066 \nL 117.207441 129.302799 \nL 117.817388 128.898623 \nL 118.427335 127.64455 \nL 119.037283 127.268098 \nL 119.64723 125.220003 \nL 120.257177 124.878462 \nL 121.477071 122.591622 \nL 122.087018 122.288935 \nL 122.696966 120.401055 \nL 123.306913 120.915 \nL 123.91686 120.638978 \nL 124.526807 121.140001 \nL 125.136754 119.340001 \nL 126.356649 121.835057 \nL 126.966596 120.822354 \nL 127.576543 121.297287 \nL 128.18649 122.490009 \nL 128.796437 121.500006 \nL 129.406384 121.9551 \nL 130.626279 118.639999 \nL 131.236226 117.721654 \nL 131.846173 117.507276 \nL 132.45612 118.658925 \nL 133.066067 118.440007 \nL 133.676015 117.555931 \nL 134.285962 118.013684 \nL 134.895909 117.806087 \nL 135.505856 118.253803 \nL 136.115803 117.40154 \nL 136.72575 118.485767 \nL 137.335698 118.916472 \nL 137.945645 117.450003 \nL 138.555592 118.506945 \nL 139.165539 118.307223 \nL 139.775486 119.340001 \nL 140.385433 117.917422 \nL 140.995381 118.332007 \nL 142.215275 117.951026 \nL 142.825222 118.946257 \nL 143.435169 118.167917 \nL 144.045116 118.564623 \nL 145.265011 118.194548 \nL 145.874958 118.582107 \nL 147.094852 118.220007 \nL 148.314747 118.972122 \nL 148.924694 118.244352 \nL 149.534641 119.158709 \nL 150.144588 118.980008 \nL 151.364482 119.694936 \nL 151.97443 120.573572 \nL 152.584377 120.390004 \nL 153.194324 119.687591 \nL 153.804271 118.476991 \nL 154.414218 118.311436 \nL 155.024165 118.658925 \nL 155.634113 119.509138 \nL 156.24406 119.84401 \nL 158.073901 119.340001 \nL 158.683848 120.158187 \nL 159.293796 119.502582 \nL 159.903743 118.370771 \nL 161.123637 119.977976 \nL 162.953479 120.905221 \nL 163.563426 120.740005 \nL 164.173373 121.040619 \nL 164.78332 121.798547 \nL 165.393267 122.089101 \nL 166.613162 123.565156 \nL 167.223109 123.840006 \nL 168.443003 123.490591 \nL 169.662897 124.028373 \nL 170.272845 124.729603 \nL 170.882792 124.988276 \nL 171.492739 123.948007 \nL 172.102686 123.778644 \nL 173.32258 124.295056 \nL 173.932528 123.704249 \nL 175.152422 123.377578 \nL 176.372316 123.884268 \nL 176.982263 123.311744 \nL 177.592211 123.562712 \nL 178.812105 122.439473 \nL 181.251894 121.846807 \nL 182.471788 122.34311 \nL 183.081735 122.97712 \nL 183.691682 122.829241 \nL 184.911577 123.305492 \nL 185.521524 123.921826 \nL 186.741418 123.624006 \nL 187.351365 124.22956 \nL 187.961312 124.454854 \nL 188.57126 123.560695 \nL 189.791154 123.273667 \nL 190.401101 122.765243 \nL 191.011048 122.992182 \nL 191.620995 122.490009 \nL 192.230943 122.716081 \nL 192.84089 122.580008 \nL 193.450837 122.803511 \nL 194.060784 122.668305 \nL 194.670731 123.244231 \nL 195.280678 123.461504 \nL 195.890626 123.325116 \nL 197.11052 123.752903 \nL 198.330414 123.482469 \nL 198.940361 123.692735 \nL 199.550309 123.216924 \nL 201.990097 122.700005 \nL 202.600044 123.242665 \nL 203.209992 122.448373 \nL 203.819939 121.992636 \nL 204.429886 122.201145 \nL 205.039833 122.736527 \nL 205.64978 122.940001 \nL 206.869675 123.990646 \nL 208.089569 123.736602 \nL 209.91941 124.316471 \nL 211.139305 125.325007 \nL 213.579093 123.574428 \nL 214.189041 123.762862 \nL 214.798988 124.257081 \nL 216.628829 124.805069 \nL 217.238776 124.380008 \nL 218.458671 124.140001 \nL 220.898459 124.852507 \nL 221.508407 124.733005 \nL 222.118354 124.907448 \nL 223.338248 124.089239 \nL 223.948195 123.974491 \nL 224.558142 123.572062 \nL 225.16809 123.460153 \nL 225.778037 123.062736 \nL 226.387984 122.383023 \nL 226.997931 122.561059 \nL 227.607878 121.88832 \nL 228.217825 122.066874 \nL 228.827773 121.963054 \nL 230.047667 121.199786 \nL 230.657614 121.656176 \nL 232.487456 121.356002 \nL 233.097403 120.983481 \nL 234.317297 121.334248 \nL 234.927244 120.965806 \nL 235.537191 121.140001 \nL 236.147139 121.581994 \nL 237.97698 121.292116 \nL 238.586927 121.462109 \nL 239.196874 120.837911 \nL 239.806822 121.271715 \nL 240.416769 121.177503 \nL 241.026716 121.607138 \nL 241.636663 121.77311 \nL 242.24661 121.678155 \nL 242.856557 122.10165 \nL 243.466505 122.264242 \nL 244.076452 121.911436 \nL 244.686399 121.048482 \nL 245.906293 121.376369 \nL 246.51624 120.777586 \nL 247.126188 120.941338 \nL 247.736135 121.356002 \nL 248.346082 121.516746 \nL 248.956029 121.426094 \nL 249.565976 121.585554 \nL 250.785871 121.40558 \nL 251.395818 121.810589 \nL 252.005765 121.720456 \nL 252.615712 122.121826 \nL 253.225659 122.275924 \nL 253.835606 122.672912 \nL 254.445554 122.581168 \nL 255.055501 122.732314 \nL 256.885342 122.46001 \nL 258.105237 123.235275 \nL 258.715184 122.906047 \nL 259.935078 123.198753 \nL 260.545025 123.57926 \nL 262.374867 123.306674 \nL 262.984814 122.984307 \nL 264.204708 123.270276 \nL 264.814655 122.950985 \nL 265.424603 122.40383 \nL 267.254444 122.831573 \nL 267.864391 122.518387 \nL 269.084286 122.8003 \nL 269.694233 122.490009 \nL 270.30418 122.854542 \nL 272.134021 122.601186 \nL 273.353916 122.876848 \nL 273.963863 122.793068 \nL 274.57381 122.490009 \nL 275.183757 122.626961 \nL 275.793704 122.326133 \nL 276.403652 122.68064 \nL 277.013599 122.164139 \nL 277.623546 121.867231 \nL 278.84344 121.709236 \nL 279.453387 122.060464 \nL 280.673282 121.475594 \nL 281.283229 121.824513 \nL 281.893176 121.959111 \nL 282.503123 121.881177 \nL 283.11307 122.014863 \nL 283.723018 121.516047 \nL 284.332965 121.229999 \nL 284.942912 121.154961 \nL 285.552859 121.498012 \nL 286.772753 121.763084 \nL 287.382701 121.48028 \nL 287.992648 121.61214 \nL 288.602595 121.537282 \nL 289.212542 121.668264 \nL 289.822489 122.003417 \nL 290.432436 121.928109 \nL 291.042384 122.260761 \nL 292.262278 122.515345 \nL 293.482172 121.9608 \nL 294.092119 121.88681 \nL 294.702067 122.21428 \nL 296.531908 122.589482 \nL 297.141855 122.316378 \nL 297.751802 122.638429 \nL 298.36175 122.564022 \nL 298.971697 122.293126 \nL 299.581644 121.827273 \nL 300.191591 121.951405 \nL 300.801538 122.270235 \nL 302.021433 122.125611 \nL 302.63138 122.441546 \nL 303.241327 122.562513 \nL 303.851274 122.875721 \nL 305.071168 123.11361 \nL 306.291063 122.967274 \nL 306.90101 123.085098 \nL 307.510957 123.392268 \nL 308.120904 123.508424 \nL 308.730851 123.057002 \nL 309.340799 123.361953 \nL 310.560693 123.592114 \nL 311.780587 122.326674 \nL 313.610429 122.119416 \nL 314.830323 122.351717 \nL 315.44027 122.099127 \nL 316.050217 122.214765 \nL 316.660165 122.512889 \nL 317.270112 122.444351 \nL 317.880059 122.558322 \nL 318.490006 122.853461 \nL 319.099953 122.9659 \nL 320.319848 123.550027 \nL 320.929795 123.300005 \nL 322.149689 123.520095 \nL 322.759636 123.271921 \nL 323.369583 123.203214 \nL 323.979531 123.490591 \nL 324.589478 123.066769 \nL 325.199425 123.176076 \nL 325.809372 123.108225 \nL 327.029266 123.67675 \nL 327.639214 123.783624 \nL 328.249161 123.365006 \nL 328.859108 122.599125 \nL 329.469055 122.707745 \nL 330.079002 122.989658 \nL 330.688949 123.096881 \nL 331.298897 123.376621 \nL 331.908844 123.137267 \nL 332.518791 123.24342 \nL 333.128738 123.005463 \nL 333.738685 122.940001 \nL 334.95858 123.151292 \nL 335.568527 123.426492 \nL 336.178474 123.36068 \nL 336.788421 123.46467 \nL 337.398368 123.229935 \nL 338.008315 122.827506 \nL 338.618263 122.931991 \nL 339.22821 123.204003 \nL 340.448104 123.409921 \nL 341.058051 123.679082 \nL 341.667998 123.614014 \nL 342.887893 123.816316 \nL 343.49784 123.751382 \nL 344.107787 123.356602 \nL 344.717734 123.622361 \nL 345.327681 123.558262 \nL 347.76747 123.956388 \nL 348.377417 123.729686 \nL 349.597312 124.250502 \nL 350.207259 124.024622 \nL 350.817206 123.638516 \nL 351.427153 123.575746 \nL 352.0371 123.834272 \nL 352.647048 123.771356 \nL 353.256995 123.548889 \nL 354.476889 123.743373 \nL 355.086836 123.998824 \nL 355.696783 124.094726 \nL 356.306731 123.715739 \nL 356.916678 123.496168 \nL 357.526625 122.962509 \nL 358.136572 122.902578 \nL 358.746519 123.156598 \nL 359.356466 123.096532 \nL 359.966414 123.349099 \nL 360.576361 123.288875 \nL 361.186308 122.917786 \nL 362.406202 123.419507 \nL 363.016149 123.205039 \nL 364.236044 123.394589 \nL 364.845991 123.642447 \nL 365.455938 123.735949 \nL 367.28578 123.556944 \nL 367.895727 123.801975 \nL 368.505674 123.894226 \nL 369.115621 123.834599 \nL 369.725568 123.9264 \nL 369.725568 123.9264 \n\" clip-path=\"url(#p7dde2252c0)\" style=\"fill: none; stroke: #1f77b4; stroke-width: 1.5; stroke-linecap: square\"/>\n   </g>\n   <g id=\"line2d_15\">\n    <path d=\"M 65.361932 94.140004 \nL 65.971879 169.740002 \nL 66.581826 119.340001 \nL 67.191773 131.94 \nL 67.80172 139.500004 \nL 68.411668 131.94 \nL 69.021615 137.339999 \nL 69.631562 141.390002 \nL 70.241509 136.14 \nL 70.851456 131.94 \nL 71.461403 142.249092 \nL 72.071351 138.240005 \nL 73.291245 142.739999 \nL 73.901192 149.580005 \nL 74.511139 150.840004 \nL 75.121086 143.057646 \nL 75.731034 148.739998 \nL 76.340981 145.866316 \nL 77.560875 148.139998 \nL 78.170822 142.249092 \nL 78.780769 146.731309 \nL 80.000664 148.571999 \nL 80.610611 137.755384 \nL 81.220558 130.540008 \nL 81.830505 129.240006 \nL 82.440452 133.243449 \nL 83.660347 135.598072 \nL 84.270294 134.302509 \nL 84.880241 135.376371 \nL 85.490188 131.94 \nL 86.100135 130.860009 \nL 86.710083 131.94 \nL 87.32003 128.875135 \nL 87.929977 131.94 \nL 88.539924 132.909231 \nL 89.149871 135.720008 \nL 89.759819 136.549763 \nL 90.979713 141.609776 \nL 92.809554 143.444349 \nL 93.419502 137.569789 \nL 94.029449 138.240005 \nL 94.639396 137.339999 \nL 95.249343 139.500004 \nL 95.85929 137.128235 \nL 97.079185 135.506046 \nL 97.689132 137.540003 \nL 98.299079 136.750916 \nL 98.909026 138.690008 \nL 99.518973 139.23474 \nL 100.12892 141.064142 \nL 100.738868 137.70611 \nL 101.348815 136.980006 \nL 103.178656 138.539999 \nL 104.398551 134.847692 \nL 105.008498 135.376371 \nL 105.618445 133.63254 \nL 106.838339 132.48783 \nL 108.058234 133.537191 \nL 108.668181 130.890009 \nL 109.278128 129.350969 \nL 109.888075 128.875135 \nL 111.717917 130.467279 \nL 112.327864 128.063077 \nL 114.157705 126.806672 \nL 114.767652 128.252199 \nL 115.3776 126.930365 \nL 115.987547 124.740001 \nL 118.427335 126.78546 \nL 119.037283 125.569215 \nL 119.64723 125.220003 \nL 120.257177 126.540001 \nL 121.477071 127.469037 \nL 122.087018 126.310223 \nL 122.696966 127.563158 \nL 123.306913 128.002504 \nL 125.136754 126.976372 \nL 125.746701 127.404002 \nL 126.356649 125.57763 \nL 126.966596 125.269412 \nL 127.576543 125.701165 \nL 128.18649 123.94385 \nL 128.796437 124.380008 \nL 129.406384 123.38151 \nL 130.016332 123.814772 \nL 130.626279 122.140008 \nL 131.236226 121.883126 \nL 132.45612 122.745416 \nL 133.066067 122.490009 \nL 134.285962 123.318954 \nL 135.505856 121.51242 \nL 136.115803 121.278463 \nL 136.72575 122.32984 \nL 137.945645 121.86001 \nL 138.555592 120.38133 \nL 139.165539 120.16623 \nL 140.385433 120.965806 \nL 140.995381 120.751203 \nL 142.215275 121.522683 \nL 143.435169 123.442331 \nL 145.265011 121.058181 \nL 145.874958 120.855789 \nL 146.484905 121.220604 \nL 147.704799 120.822354 \nL 148.314747 121.179418 \nL 149.534641 119.702597 \nL 150.144588 119.520009 \nL 152.584377 120.915 \nL 153.194324 121.77311 \nL 153.804271 122.10165 \nL 154.414218 120.88286 \nL 155.024165 120.702165 \nL 155.634113 121.538668 \nL 156.854007 122.177094 \nL 157.463954 121.495263 \nL 158.073901 121.316472 \nL 158.683848 120.649094 \nL 159.293796 120.965806 \nL 159.903743 120.793853 \nL 160.51369 119.661028 \nL 161.733584 121.241896 \nL 162.343531 121.0725 \nL 162.953479 120.435662 \nL 164.78332 117.188784 \nL 165.393267 117.507276 \nL 166.003214 116.911095 \nL 167.223109 117.540001 \nL 169.05295 117.129483 \nL 169.662897 117.874884 \nL 170.882792 116.733103 \nL 171.492739 117.468005 \nL 172.102686 116.476368 \nL 172.712633 116.777297 \nL 173.932528 116.524358 \nL 174.542475 116.820004 \nL 175.152422 116.277017 \nL 175.762369 116.570771 \nL 176.372316 116.448205 \nL 176.982263 117.148702 \nL 177.592211 117.432981 \nL 178.202158 117.307745 \nL 178.812105 117.992415 \nL 179.422052 117.865534 \nL 180.031999 118.140001 \nL 180.641946 118.809474 \nL 181.251894 118.680318 \nL 181.861841 117.371259 \nL 182.471788 117.250889 \nL 183.081735 117.521448 \nL 183.691682 117.40154 \nL 184.301629 116.897148 \nL 184.911577 117.165386 \nL 185.521524 117.049094 \nL 186.131471 116.554076 \nL 186.741418 116.820004 \nL 187.351365 117.45941 \nL 187.961312 117.718218 \nL 188.57126 118.346899 \nL 189.791154 118.110734 \nL 190.401101 118.361364 \nL 191.011048 118.974792 \nL 191.620995 119.218854 \nL 192.230943 119.098857 \nL 192.84089 119.700006 \nL 193.450837 119.57887 \nL 194.060784 119.10227 \nL 194.670731 118.985077 \nL 195.280678 119.222245 \nL 195.890626 119.105582 \nL 196.500573 118.639999 \nL 197.11052 119.223879 \nL 197.720467 118.415235 \nL 198.940361 118.88182 \nL 200.160256 117.977838 \nL 200.770203 117.870941 \nL 201.38015 118.102511 \nL 202.600044 117.890453 \nL 203.209992 118.118856 \nL 203.819939 117.682113 \nL 204.429886 117.909435 \nL 205.039833 117.4774 \nL 206.869675 117.17691 \nL 207.479622 116.755386 \nL 208.699516 116.56373 \nL 209.309463 116.150137 \nL 209.91941 116.057649 \nL 210.529358 115.649632 \nL 211.139305 115.875005 \nL 211.749252 115.784815 \nL 212.359199 115.070585 \nL 212.969146 114.673338 \nL 213.579093 114.899026 \nL 214.189041 114.505721 \nL 214.798988 114.422933 \nL 215.408935 113.728665 \nL 216.018882 113.344846 \nL 217.238776 113.796009 \nL 217.848724 113.416504 \nL 218.458671 113.340002 \nL 219.068618 113.861742 \nL 219.678565 113.784102 \nL 220.898459 113.040008 \nL 221.508407 113.554786 \nL 222.118354 113.479545 \nL 223.338248 113.912312 \nL 223.948195 113.5469 \nL 224.558142 113.472831 \nL 225.16809 113.68677 \nL 225.778037 114.185461 \nL 226.387984 114.395096 \nL 228.217825 114.16836 \nL 228.827773 114.374954 \nL 229.43772 114.300006 \nL 230.047667 114.504584 \nL 230.657614 114.985589 \nL 231.267561 114.632309 \nL 231.877508 115.109349 \nL 233.70735 114.882241 \nL 234.317297 114.535687 \nL 234.927244 114.462587 \nL 235.537191 113.850003 \nL 236.147139 112.972743 \nL 236.757086 112.905962 \nL 237.97698 112.241412 \nL 239.196874 113.172172 \nL 239.806822 112.579032 \nL 240.416769 113.040008 \nL 241.026716 112.71301 \nL 241.636663 112.648967 \nL 242.24661 112.845163 \nL 243.466505 112.717483 \nL 244.076452 112.911437 \nL 244.686399 113.360347 \nL 245.296346 113.040008 \nL 245.906293 112.97637 \nL 246.51624 113.166855 \nL 247.126188 113.103217 \nL 247.736135 112.788003 \nL 248.346082 113.228374 \nL 248.956029 112.664513 \nL 249.565976 112.353862 \nL 250.175923 112.293953 \nL 250.785871 112.482297 \nL 252.615712 112.303641 \nL 253.225659 112.734178 \nL 253.835606 112.18646 \nL 254.445554 112.614608 \nL 255.055501 112.555387 \nL 256.275395 112.919627 \nL 257.495289 112.800767 \nL 258.105237 112.98038 \nL 259.935078 112.803752 \nL 260.545025 112.981124 \nL 261.154972 113.392183 \nL 262.984814 113.912312 \nL 263.594761 114.315462 \nL 264.814655 114.192445 \nL 266.644497 114.695902 \nL 267.254444 115.089398 \nL 268.474338 115.416654 \nL 269.084286 115.127463 \nL 269.694233 115.065009 \nL 270.30418 114.778578 \nL 270.914127 114.941192 \nL 271.524074 114.656823 \nL 272.743969 114.979888 \nL 273.963863 114.85837 \nL 274.57381 114.578383 \nL 275.183757 114.738271 \nL 275.793704 114.678734 \nL 276.403652 114.401675 \nL 277.013599 114.343456 \nL 277.623546 114.502184 \nL 278.233493 114.876 \nL 279.453387 113.899098 \nL 280.063335 114.057285 \nL 280.673282 114.001026 \nL 281.283229 113.732112 \nL 281.893176 113.889443 \nL 282.503123 113.834119 \nL 283.11307 113.567943 \nL 283.723018 113.724407 \nL 284.332965 113.670007 \nL 284.942912 113.40649 \nL 285.552859 113.562108 \nL 286.162806 113.300337 \nL 287.992648 113.143288 \nL 288.602595 113.503495 \nL 289.212542 113.450875 \nL 289.822489 112.783903 \nL 290.432436 113.142172 \nL 291.042384 113.294727 \nL 291.652331 113.649684 \nL 292.262278 113.394695 \nL 292.872225 113.747489 \nL 293.482172 113.695207 \nL 294.092119 113.844258 \nL 294.702067 113.791999 \nL 295.312014 114.140006 \nL 295.921961 113.68829 \nL 297.751802 114.128492 \nL 298.36175 114.0763 \nL 298.971697 113.630635 \nL 299.581644 113.776374 \nL 300.191591 114.117205 \nL 302.021433 113.963141 \nL 302.63138 113.71847 \nL 303.241327 113.668396 \nL 303.851274 113.811431 \nL 305.071168 113.327824 \nL 306.90101 113.754113 \nL 308.730851 113.607 \nL 309.340799 113.369934 \nL 309.950746 112.945976 \nL 312.390534 113.505523 \nL 313.000482 113.272196 \nL 313.610429 113.41059 \nL 315.44027 114.37358 \nL 316.050217 114.507963 \nL 316.660165 114.275594 \nL 317.880059 114.542897 \nL 319.7099 115.481632 \nL 320.319848 115.250266 \nL 320.929795 115.200001 \nL 321.539742 115.329551 \nL 322.149689 115.279342 \nL 322.759636 115.586816 \nL 323.369583 115.357928 \nL 323.979531 115.308001 \nL 324.589478 115.613245 \nL 325.809372 115.866173 \nL 326.419319 115.639301 \nL 327.029266 115.061866 \nL 327.639214 114.837912 \nL 328.249161 115.140002 \nL 328.859108 115.266105 \nL 329.469055 115.565807 \nL 330.688949 115.814319 \nL 331.298897 115.764718 \nL 331.908844 115.887948 \nL 333.738685 115.740002 \nL 334.95858 115.983793 \nL 335.568527 115.934598 \nL 336.178474 116.2254 \nL 338.008315 116.077509 \nL 338.618263 115.86027 \nL 339.22821 115.476 \nL 339.838157 115.26107 \nL 341.058051 115.501595 \nL 341.667998 115.454539 \nL 342.277946 115.57385 \nL 342.887893 115.526851 \nL 343.49784 115.645475 \nL 344.107787 115.92865 \nL 344.717734 116.045888 \nL 345.327681 115.998269 \nL 345.937629 115.786865 \nL 347.157523 116.019921 \nL 347.76747 115.972765 \nL 348.377417 115.763231 \nL 348.987365 115.87906 \nL 349.597312 115.832512 \nL 350.207259 116.109232 \nL 351.427153 116.015753 \nL 352.0371 116.129814 \nL 352.647048 116.083221 \nL 353.256995 116.356494 \nL 353.866942 116.30963 \nL 354.476889 115.78548 \nL 355.086836 115.422355 \nL 355.696783 115.694726 \nL 356.306731 115.807785 \nL 356.916678 115.762555 \nL 357.526625 115.875005 \nL 358.136572 115.82982 \nL 358.746519 115.471122 \nL 359.356466 115.583482 \nL 359.966414 115.539176 \nL 360.576361 115.339183 \nL 363.016149 115.165777 \nL 363.626097 115.431434 \nL 364.236044 115.542037 \nL 364.845991 115.498542 \nL 366.065885 116.024213 \nL 367.28578 116.240811 \nL 367.895727 116.500566 \nL 368.505674 116.607473 \nL 369.115621 116.865459 \nL 369.725568 116.820004 \nL 369.725568 116.820004 \n\" clip-path=\"url(#p7dde2252c0)\" style=\"fill: none; stroke: #ff7f0e; stroke-width: 1.5; stroke-linecap: square\"/>\n   </g>\n   <g id=\"line2d_16\">\n    <path d=\"M 65.361932 94.140004 \nL 67.191773 94.140004 \nL 67.80172 109.26 \nL 68.411668 119.340001 \nL 69.021615 115.740002 \nL 69.631562 113.040008 \nL 70.241509 119.340001 \nL 70.851456 124.380008 \nL 71.461403 114.758188 \nL 72.681298 111.586156 \nL 73.291245 104.940003 \nL 73.901192 109.26 \nL 74.511139 117.765003 \nL 75.121086 111.928237 \nL 75.731034 110.940002 \nL 76.340981 102.097897 \nL 76.950928 101.700008 \nL 77.560875 94.140004 \nL 78.170822 101.012735 \nL 78.780769 104.000873 \nL 79.390717 100.440009 \nL 80.000664 100.188005 \nL 80.610611 105.770772 \nL 81.830505 110.340002 \nL 82.440452 104.567595 \nL 83.0504 104.220005 \nL 83.660347 101.456137 \nL 84.270294 96.502501 \nL 84.880241 96.430911 \nL 85.490188 98.587062 \nL 86.100135 102.78001 \nL 86.710083 104.640008 \nL 87.929977 112.045272 \nL 88.539924 107.709233 \nL 89.149871 105.480004 \nL 90.369766 108.540002 \nL 90.979713 104.688843 \nL 91.58966 104.449096 \nL 92.199607 105.900007 \nL 92.809554 104.000873 \nL 93.419502 107.008094 \nL 94.029449 108.315001 \nL 95.85929 107.481179 \nL 96.469237 102.86308 \nL 97.689132 102.540003 \nL 98.299079 103.761824 \nL 98.909026 103.590006 \nL 99.518973 104.750532 \nL 100.12892 104.567595 \nL 100.738868 105.672212 \nL 101.348815 104.220005 \nL 101.958762 105.294104 \nL 103.178656 102.540003 \nL 103.788603 104.77126 \nL 104.398551 104.6077 \nL 105.008498 103.303642 \nL 105.618445 103.166871 \nL 106.228392 101.922362 \nL 108.058234 101.593528 \nL 108.668181 100.440009 \nL 109.278128 102.424939 \nL 109.888075 101.29136 \nL 111.107969 105.082114 \nL 111.717917 104.940003 \nL 112.327864 105.770772 \nL 112.937811 105.623546 \nL 113.547758 107.370002 \nL 114.157705 106.273338 \nL 114.767652 104.281468 \nL 115.3776 104.159285 \nL 116.597494 105.702358 \nL 117.207441 105.567918 \nL 117.817388 106.305523 \nL 118.427335 105.308186 \nL 119.037283 106.881573 \nL 119.64723 107.580009 \nL 120.867124 107.287833 \nL 121.477071 108.772259 \nL 122.087018 109.420857 \nL 123.306913 107.527502 \nL 123.91686 108.948256 \nL 124.526807 109.568578 \nL 125.136754 110.940002 \nL 128.18649 110.132315 \nL 128.796437 110.700007 \nL 129.406384 110.54378 \nL 131.846173 112.696371 \nL 133.066067 112.365003 \nL 133.676015 112.872752 \nL 134.285962 114.034743 \nL 134.895909 114.519138 \nL 137.335698 113.834119 \nL 137.945645 114.300006 \nL 138.555592 114.133393 \nL 139.775486 116.266834 \nL 140.995381 117.122409 \nL 141.605328 115.140002 \nL 142.215275 113.784102 \nL 142.825222 111.858753 \nL 143.435169 112.893491 \nL 144.655064 112.607184 \nL 145.874958 114.603166 \nL 146.484905 115.01463 \nL 147.094852 114.300006 \nL 147.704799 114.707652 \nL 148.314747 114.557519 \nL 149.534641 116.439282 \nL 150.144588 116.820004 \nL 150.754535 116.659158 \nL 151.364482 117.56536 \nL 151.97443 117.930219 \nL 153.194324 117.602073 \nL 155.024165 118.658925 \nL 155.634113 117.479597 \nL 156.854007 117.170467 \nL 157.463954 116.521587 \nL 158.683848 117.212734 \nL 159.293796 117.063874 \nL 159.903743 117.40154 \nL 161.123637 119.021014 \nL 161.733584 118.389065 \nL 162.343531 118.710002 \nL 162.953479 119.496532 \nL 163.563426 119.340001 \nL 164.173373 119.649211 \nL 164.78332 119.49366 \nL 165.393267 119.798183 \nL 166.003214 119.643623 \nL 166.613162 119.943595 \nL 167.223109 119.790004 \nL 167.833056 120.532904 \nL 168.443003 120.822354 \nL 170.272845 120.359655 \nL 170.882792 121.077941 \nL 171.492739 120.924001 \nL 172.102686 121.630919 \nL 173.32258 122.171461 \nL 173.932528 121.592516 \nL 174.542475 121.86001 \nL 175.152422 122.542213 \nL 175.762369 122.801539 \nL 176.982263 122.490009 \nL 178.202158 122.998073 \nL 178.812105 122.84375 \nL 179.422052 122.288935 \nL 180.031999 122.140008 \nL 180.641946 121.594747 \nL 181.251894 121.451002 \nL 181.861841 121.70251 \nL 182.471788 121.167984 \nL 183.081735 121.028666 \nL 183.691682 120.503085 \nL 184.301629 120.368577 \nL 184.911577 119.467918 \nL 185.521524 120.103641 \nL 187.351365 120.844479 \nL 187.961312 121.460802 \nL 189.181207 121.934124 \nL 189.791154 122.536107 \nL 191.620995 122.126546 \nL 192.230943 122.354364 \nL 193.450837 122.086926 \nL 194.060784 122.311703 \nL 194.670731 122.179437 \nL 195.280678 122.40169 \nL 195.890626 122.973493 \nL 196.500573 123.19 \nL 197.11052 122.359355 \nL 197.720467 122.576707 \nL 198.330414 122.446852 \nL 198.940361 121.974555 \nL 199.550309 122.532761 \nL 200.160256 122.745416 \nL 200.770203 122.278121 \nL 201.38015 122.490009 \nL 201.990097 122.364007 \nL 202.600044 122.573632 \nL 203.209992 123.114455 \nL 203.819939 122.987371 \nL 204.429886 123.521661 \nL 205.039833 123.722611 \nL 205.64978 123.26728 \nL 206.259727 123.141728 \nL 206.869675 122.692796 \nL 207.479622 123.216924 \nL 208.089569 123.093197 \nL 208.699516 122.32984 \nL 210.529358 122.924939 \nL 211.139305 123.435008 \nL 214.189041 124.380008 \nL 214.798988 124.257081 \nL 215.408935 123.523002 \nL 216.018882 123.709363 \nL 216.628829 122.983383 \nL 217.238776 122.565599 \nL 217.848724 122.452361 \nL 219.068618 122.826165 \nL 219.678565 122.415591 \nL 220.288512 122.304707 \nL 220.898459 122.785317 \nL 221.508407 122.08553 \nL 222.118354 121.684193 \nL 222.728301 121.577837 \nL 223.338248 122.053852 \nL 223.948195 121.657246 \nL 224.558142 121.840769 \nL 225.16809 121.735439 \nL 225.778037 121.917283 \nL 226.997931 121.708424 \nL 227.607878 121.88832 \nL 228.217825 121.78478 \nL 229.43772 122.140008 \nL 230.047667 121.757721 \nL 230.657614 121.100302 \nL 231.267561 121.00154 \nL 231.877508 120.6276 \nL 232.487456 121.081095 \nL 233.097403 120.983481 \nL 233.70735 120.613654 \nL 234.317297 120.790361 \nL 234.927244 121.236781 \nL 235.537191 121.410007 \nL 236.147139 121.312957 \nL 236.757086 121.752776 \nL 237.367033 121.922341 \nL 237.97698 121.824513 \nL 238.586927 121.462109 \nL 239.806822 121.798547 \nL 240.416769 121.177503 \nL 241.026716 121.345536 \nL 241.636663 121.77311 \nL 242.24661 121.678155 \nL 242.856557 122.10165 \nL 243.466505 122.006222 \nL 244.076452 122.168577 \nL 244.686399 122.586102 \nL 246.51624 123.06081 \nL 247.126188 122.964086 \nL 247.736135 122.616 \nL 250.175923 122.241317 \nL 250.785871 122.644918 \nL 251.395818 122.304707 \nL 253.225659 122.031265 \nL 254.445554 122.338075 \nL 255.055501 122.732314 \nL 256.275395 122.068665 \nL 256.885342 122.46001 \nL 257.495289 122.609624 \nL 258.105237 122.281331 \nL 259.325131 122.578881 \nL 259.935078 122.490009 \nL 260.545025 122.166178 \nL 261.76492 121.992636 \nL 262.374867 122.373335 \nL 262.984814 122.286468 \nL 263.594761 121.968224 \nL 264.204708 122.114312 \nL 264.814655 122.029034 \nL 265.424603 122.40383 \nL 266.03455 122.318191 \nL 266.644497 122.689855 \nL 267.254444 122.603856 \nL 267.864391 122.745416 \nL 268.474338 122.659766 \nL 270.30418 123.078879 \nL 270.914127 122.545919 \nL 272.134021 123.268237 \nL 272.743969 123.404525 \nL 273.353916 123.318954 \nL 274.57381 123.588847 \nL 275.183757 123.065226 \nL 275.793704 123.200116 \nL 276.403652 123.552111 \nL 277.013599 123.684827 \nL 277.623546 122.95032 \nL 278.84344 123.216924 \nL 280.063335 123.908849 \nL 281.283229 124.167049 \nL 281.893176 124.082706 \nL 282.503123 124.422354 \nL 283.11307 124.337774 \nL 283.723018 124.043074 \nL 284.332965 123.960004 \nL 285.552859 124.212932 \nL 286.162806 123.713554 \nL 287.382701 124.380008 \nL 289.212542 124.74979 \nL 290.432436 125.401622 \nL 291.042384 124.706047 \nL 291.652331 124.420653 \nL 292.872225 124.258726 \nL 293.482172 124.5816 \nL 294.092119 124.098511 \nL 294.702067 124.019045 \nL 295.312014 124.140001 \nL 295.921961 124.060851 \nL 296.531908 123.783162 \nL 297.141855 123.903779 \nL 297.751802 123.034246 \nL 298.36175 122.761412 \nL 299.581644 123.398182 \nL 300.191591 123.322389 \nL 300.801538 123.442331 \nL 302.021433 124.069052 \nL 303.851274 123.840006 \nL 304.461221 124.149171 \nL 305.681116 124.380008 \nL 306.291063 124.30364 \nL 306.90101 124.037239 \nL 307.510957 124.152066 \nL 308.120904 124.076848 \nL 308.730851 124.19101 \nL 309.340799 123.739002 \nL 309.950746 124.041497 \nL 311.780587 124.380008 \nL 312.390534 124.119318 \nL 313.000482 124.417149 \nL 313.610429 124.342945 \nL 314.220376 123.89942 \nL 315.44027 123.386725 \nL 316.050217 123.315732 \nL 316.660165 123.611186 \nL 317.270112 123.722611 \nL 317.880059 123.469165 \nL 318.490006 123.580387 \nL 319.099953 123.872383 \nL 319.7099 123.258662 \nL 320.319848 123.189166 \nL 321.539742 123.410315 \nL 322.759636 123.271921 \nL 323.369583 123.38151 \nL 323.979531 123.312713 \nL 324.589478 123.421693 \nL 325.199425 123.176076 \nL 325.809372 123.284865 \nL 327.029266 123.14931 \nL 327.639214 123.257411 \nL 328.249161 123.19 \nL 328.859108 123.472105 \nL 329.469055 123.056135 \nL 330.079002 122.815869 \nL 331.298897 122.684628 \nL 331.908844 122.792065 \nL 334.348632 122.532761 \nL 334.95858 122.809977 \nL 335.568527 122.745416 \nL 336.178474 122.851016 \nL 336.788421 122.447629 \nL 338.618263 123.268733 \nL 339.22821 123.204003 \nL 339.838157 123.47482 \nL 340.448104 123.409921 \nL 343.49784 123.916813 \nL 344.107787 124.18193 \nL 344.717734 123.78706 \nL 345.327681 123.722611 \nL 346.547576 123.921826 \nL 347.157523 123.530932 \nL 347.76747 123.467588 \nL 348.377417 123.729686 \nL 348.987365 123.828414 \nL 349.597312 123.764845 \nL 350.207259 124.024622 \nL 350.817206 124.122089 \nL 352.647048 123.931526 \nL 353.256995 124.028373 \nL 353.866942 123.646334 \nL 354.476889 123.902529 \nL 355.086836 123.681177 \nL 356.306731 123.557575 \nL 356.916678 123.653994 \nL 357.526625 123.907508 \nL 358.746519 123.783984 \nL 359.356466 123.879131 \nL 359.966414 123.81769 \nL 360.576361 123.600619 \nL 361.186308 123.851114 \nL 361.796255 123.634866 \nL 362.406202 122.954758 \nL 363.016149 123.205039 \nL 363.626097 122.991438 \nL 364.236044 122.932678 \nL 364.845991 122.566839 \nL 365.455938 122.662515 \nL 366.675832 122.547282 \nL 367.28578 122.642429 \nL 368.505674 122.527962 \nL 369.115621 122.774075 \nL 369.725568 122.716802 \nL 369.725568 122.716802 \n\" clip-path=\"url(#p7dde2252c0)\" style=\"fill: none; stroke: #2ca02c; stroke-width: 1.5; stroke-linecap: square\"/>\n   </g>\n   <g id=\"line2d_17\">\n    <path d=\"M 65.361932 94.140004 \nL 65.971879 56.340008 \nL 66.581826 68.940006 \nL 67.191773 75.240011 \nL 67.80172 109.26 \nL 68.411668 106.740003 \nL 69.021615 115.740002 \nL 69.631562 131.94 \nL 70.241509 119.340001 \nL 70.851456 124.380008 \nL 72.071351 119.340001 \nL 72.681298 117.40154 \nL 73.901192 134.460009 \nL 75.121086 138.610588 \nL 75.731034 140.339999 \nL 76.340981 137.908423 \nL 76.950928 131.94 \nL 77.560875 130.14 \nL 78.170822 135.376371 \nL 78.780769 136.87044 \nL 79.390717 131.94 \nL 80.000664 130.428008 \nL 80.610611 131.94 \nL 81.220558 130.540008 \nL 81.830505 121.140001 \nL 82.440452 125.422767 \nL 83.0504 124.380008 \nL 83.660347 125.843232 \nL 84.270294 124.852507 \nL 84.880241 126.212733 \nL 85.490188 125.269412 \nL 86.100135 126.540001 \nL 87.32003 124.788655 \nL 87.929977 118.013684 \nL 88.539924 117.40154 \nL 89.149871 113.040008 \nL 89.759819 110.735132 \nL 90.979713 109.963257 \nL 91.58966 111.321827 \nL 92.199607 109.26 \nL 94.029449 113.040008 \nL 94.639396 114.197143 \nL 95.249343 116.820004 \nL 95.85929 116.375296 \nL 96.469237 118.855392 \nL 97.689132 120.740005 \nL 98.299079 118.88182 \nL 99.518973 120.666319 \nL 100.12892 120.208971 \nL 100.738868 118.485767 \nL 101.348815 119.340001 \nL 101.958762 116.448205 \nL 102.568709 117.307745 \nL 103.178656 116.940001 \nL 103.788603 115.402505 \nL 104.398551 116.238468 \nL 105.008498 115.903641 \nL 105.618445 114.450454 \nL 106.228392 116.375296 \nL 106.838339 117.148702 \nL 108.058234 114.370989 \nL 108.668181 115.140002 \nL 109.278128 116.923565 \nL 109.888075 116.615685 \nL 110.498022 115.308001 \nL 111.107969 115.029478 \nL 111.717917 115.740002 \nL 112.327864 117.40154 \nL 112.937811 116.150137 \nL 114.157705 117.473334 \nL 114.767652 117.188784 \nL 115.3776 117.821938 \nL 117.207441 116.995821 \nL 118.427335 118.194548 \nL 119.037283 117.924271 \nL 119.64723 118.500006 \nL 120.257177 117.40154 \nL 121.477071 116.901294 \nL 122.087018 117.463409 \nL 122.696966 118.809474 \nL 123.306913 117.765003 \nL 123.91686 117.521448 \nL 124.526807 116.511437 \nL 125.136754 117.049094 \nL 125.746701 116.820004 \nL 126.356649 117.343963 \nL 126.966596 117.116472 \nL 127.576543 118.361364 \nL 128.18649 118.855392 \nL 128.796437 117.180008 \nL 130.626279 118.639999 \nL 131.236226 119.802396 \nL 131.846173 119.569092 \nL 132.45612 117.977838 \nL 133.066067 119.115 \nL 133.676015 119.563009 \nL 134.285962 119.340001 \nL 137.945645 121.86001 \nL 138.555592 121.006125 \nL 139.165539 120.785911 \nL 139.775486 121.183902 \nL 140.385433 120.356129 \nL 140.995381 120.146404 \nL 142.215275 122.117962 \nL 143.435169 122.856289 \nL 144.045116 123.798471 \nL 144.655064 122.994964 \nL 145.874958 122.561059 \nL 146.484905 121.78478 \nL 147.094852 121.58 \nL 147.704799 121.934124 \nL 148.314747 121.179418 \nL 148.924694 121.531312 \nL 150.144588 120.06001 \nL 150.754535 119.876172 \nL 151.364482 118.630142 \nL 151.97443 117.930219 \nL 153.194324 117.602073 \nL 155.024165 118.658925 \nL 156.24406 118.332007 \nL 157.463954 120.003166 \nL 158.073901 119.340001 \nL 158.683848 119.66728 \nL 159.293796 120.478065 \nL 159.903743 120.793853 \nL 160.51369 120.624085 \nL 161.123637 119.977976 \nL 162.343531 119.655001 \nL 162.953479 119.026962 \nL 163.563426 119.340001 \nL 164.173373 119.185408 \nL 164.78332 119.49366 \nL 165.393267 118.88182 \nL 166.003214 118.73278 \nL 166.613162 118.132814 \nL 167.223109 117.990004 \nL 167.833056 118.74355 \nL 169.05295 117.571589 \nL 170.882792 117.167594 \nL 171.492739 116.604003 \nL 172.102686 116.905913 \nL 173.932528 116.524358 \nL 174.542475 115.560005 \nL 175.152422 115.441663 \nL 175.762369 114.078463 \nL 176.982263 114.683488 \nL 177.592211 113.346491 \nL 178.202158 113.649684 \nL 178.812105 113.545357 \nL 179.422052 113.844258 \nL 180.031999 113.740009 \nL 181.251894 114.32639 \nL 181.861841 113.827507 \nL 182.471788 114.508921 \nL 183.081735 112.845163 \nL 183.691682 112.749239 \nL 184.301629 113.040008 \nL 184.911577 113.711576 \nL 185.521524 113.994548 \nL 186.741418 113.040008 \nL 187.351365 112.193737 \nL 187.961312 112.478614 \nL 188.57126 111.643451 \nL 189.181207 111.557655 \nL 189.791154 112.210252 \nL 190.401101 111.388552 \nL 191.011048 112.035663 \nL 191.620995 112.313082 \nL 192.230943 111.140963 \nL 192.84089 111.420004 \nL 194.060784 111.256984 \nL 194.670731 111.886488 \nL 195.890626 112.424653 \nL 196.500573 112.340006 \nL 197.11052 111.907746 \nL 197.720467 112.173032 \nL 198.330414 112.781098 \nL 200.770203 113.802791 \nL 201.38015 114.390005 \nL 202.600044 114.210797 \nL 203.209992 114.788469 \nL 203.819939 115.029478 \nL 205.039833 114.847837 \nL 205.64978 114.430909 \nL 206.869675 114.256748 \nL 207.479622 113.847694 \nL 208.089569 113.763835 \nL 209.309463 114.236211 \nL 210.529358 114.068043 \nL 211.139305 113.355007 \nL 211.749252 113.588964 \nL 212.359199 114.133393 \nL 212.969146 114.362224 \nL 213.579093 113.969517 \nL 214.189041 114.197143 \nL 214.798988 114.115616 \nL 215.408935 114.34082 \nL 216.018882 114.259361 \nL 216.628829 113.874945 \nL 217.238776 114.400808 \nL 217.848724 114.320081 \nL 218.458671 114.540002 \nL 219.068618 113.56293 \nL 219.678565 113.784102 \nL 220.288512 113.70707 \nL 220.898459 113.925943 \nL 221.508407 114.437285 \nL 222.118354 114.651629 \nL 222.728301 114.572434 \nL 223.338248 113.912312 \nL 223.948195 114.41587 \nL 224.558142 114.627026 \nL 225.16809 115.124039 \nL 225.778037 115.044551 \nL 226.387984 114.680378 \nL 228.217825 115.296724 \nL 229.43772 115.140002 \nL 230.047667 115.620443 \nL 230.657614 115.263537 \nL 231.267561 115.463079 \nL 231.877508 114.557519 \nL 232.487456 113.933457 \nL 233.097403 114.409572 \nL 233.70735 114.609317 \nL 234.317297 114.535687 \nL 234.927244 114.191623 \nL 236.147139 114.048903 \nL 236.757086 113.710213 \nL 237.367033 113.641066 \nL 237.97698 113.838592 \nL 238.586927 113.504216 \nL 239.196874 113.70084 \nL 239.806822 113.105864 \nL 240.416769 113.565003 \nL 241.026716 113.759386 \nL 241.636663 113.431037 \nL 242.24661 113.88434 \nL 242.856557 114.075624 \nL 244.686399 113.872883 \nL 245.906293 113.230909 \nL 246.51624 113.166855 \nL 247.736135 113.544005 \nL 248.346082 112.474885 \nL 249.565976 112.85288 \nL 250.175923 113.288689 \nL 252.005765 112.362807 \nL 252.615712 112.549101 \nL 253.225659 112.0002 \nL 253.835606 112.18646 \nL 254.445554 111.885339 \nL 256.275395 112.438092 \nL 256.885342 112.86 \nL 257.495289 112.561526 \nL 258.105237 112.741894 \nL 259.325131 113.573238 \nL 259.935078 113.512507 \nL 261.154972 112.922612 \nL 261.76492 112.396355 \nL 262.374867 112.573343 \nL 262.984814 112.516623 \nL 263.594761 112.692147 \nL 264.204708 112.635415 \nL 264.814655 112.80952 \nL 265.424603 112.522988 \nL 266.03455 112.696371 \nL 266.644497 113.0971 \nL 267.254444 112.812291 \nL 268.474338 112.700483 \nL 269.084286 112.419403 \nL 269.694233 112.590005 \nL 270.30418 112.31093 \nL 271.524074 112.203718 \nL 272.743969 111.210977 \nL 273.353916 111.382108 \nL 273.963863 111.331842 \nL 274.57381 111.721396 \nL 276.403652 111.569404 \nL 277.013599 111.302079 \nL 277.623546 111.686135 \nL 278.84344 112.016929 \nL 279.453387 111.966145 \nL 280.063335 111.487314 \nL 280.673282 111.43831 \nL 281.283229 111.602536 \nL 282.503123 111.081179 \nL 283.11307 111.033864 \nL 283.723018 111.197391 \nL 284.942912 111.102887 \nL 285.552859 111.26487 \nL 287.382701 111.124111 \nL 287.992648 111.284269 \nL 289.212542 110.780227 \nL 289.822489 110.940002 \nL 290.432436 110.690273 \nL 291.652331 110.6013 \nL 292.262278 110.759848 \nL 292.872225 110.513262 \nL 294.092119 110.42617 \nL 294.702067 110.182446 \nL 295.312014 109.54001 \nL 296.531908 109.458956 \nL 297.141855 109.617166 \nL 298.36175 110.325909 \nL 298.971697 110.480627 \nL 299.581644 110.43819 \nL 300.191591 110.20011 \nL 300.801538 109.767918 \nL 301.411485 109.727633 \nL 302.021433 109.881911 \nL 302.63138 109.26 \nL 303.241327 109.221338 \nL 304.461221 109.529319 \nL 305.071168 109.490262 \nL 305.681116 109.068614 \nL 306.291063 109.412735 \nL 306.90101 109.374264 \nL 308.120904 110.05579 \nL 308.730851 110.016002 \nL 309.340799 110.353475 \nL 309.950746 110.501197 \nL 310.560693 110.273008 \nL 311.17064 110.4202 \nL 312.390534 109.967595 \nL 313.000482 110.114449 \nL 313.610429 110.075302 \nL 314.220376 110.221176 \nL 315.44027 110.142927 \nL 316.660165 109.699323 \nL 317.270112 109.844352 \nL 317.880059 109.806512 \nL 318.490006 109.587121 \nL 319.099953 109.550081 \nL 319.7099 109.694074 \nL 320.929795 109.620004 \nL 321.539742 109.942383 \nL 322.149689 109.546645 \nL 322.759636 109.688937 \nL 324.589478 109.579438 \nL 325.199425 109.897378 \nL 325.809372 110.037203 \nL 326.419319 109.823917 \nL 327.639214 110.101956 \nL 328.859108 110.726615 \nL 329.469055 110.862587 \nL 330.688949 111.479451 \nL 331.298897 111.439775 \nL 331.908844 111.572885 \nL 333.128738 111.493645 \nL 333.738685 111.797143 \nL 334.348632 111.757197 \nL 334.95858 112.058746 \nL 335.568527 112.188657 \nL 336.178474 112.14809 \nL 337.398368 112.405772 \nL 338.008315 112.7025 \nL 338.618263 112.492785 \nL 339.22821 112.452005 \nL 339.838157 112.74666 \nL 340.448104 112.872752 \nL 341.058051 112.664513 \nL 341.667998 112.62371 \nL 342.277946 112.416925 \nL 342.887893 112.376843 \nL 343.49784 112.502372 \nL 344.107787 112.792408 \nL 344.717734 112.916472 \nL 345.327681 113.204357 \nL 346.547576 113.449095 \nL 347.76747 113.365867 \nL 348.377417 113.649684 \nL 348.987365 113.607811 \nL 349.597312 113.404248 \nL 350.207259 113.363084 \nL 350.817206 113.160895 \nL 351.427153 113.12043 \nL 352.0371 112.919627 \nL 353.256995 113.159881 \nL 353.866942 113.438742 \nL 354.476889 113.398108 \nL 355.086836 113.516472 \nL 355.696783 113.47585 \nL 357.526625 113.827507 \nL 358.136572 113.78658 \nL 359.356466 114.018262 \nL 359.966414 113.9772 \nL 360.576361 114.248051 \nL 362.406202 114.589186 \nL 363.016149 114.547369 \nL 364.845991 114.883908 \nL 365.455938 114.688489 \nL 366.065885 114.187782 \nL 367.895727 113.610425 \nL 368.505674 113.571334 \nL 369.115621 113.683897 \nL 369.725568 113.9472 \nL 369.725568 113.9472 \n\" clip-path=\"url(#p7dde2252c0)\" style=\"fill: none; stroke: #d62728; stroke-width: 1.5; stroke-linecap: square\"/>\n   </g>\n   <g id=\"line2d_18\">\n    <path d=\"M 65.361932 18.54 \nL 65.971879 94.140004 \nL 66.581826 119.340001 \nL 67.191773 94.140004 \nL 67.80172 63.900011 \nL 68.411668 68.940006 \nL 69.021615 61.740007 \nL 69.631562 46.890017 \nL 70.241509 60.540007 \nL 70.851456 79.020008 \nL 71.461403 80.394552 \nL 72.071351 87.84001 \nL 73.291245 88.740004 \nL 73.901192 89.100009 \nL 74.511139 98.86501 \nL 75.121086 103.034121 \nL 75.731034 98.340003 \nL 76.950928 113.040008 \nL 77.560875 119.340001 \nL 78.780769 117.148702 \nL 79.390717 113.040008 \nL 80.610611 117.40154 \nL 81.220558 116.540005 \nL 81.830505 121.140001 \nL 83.0504 124.380008 \nL 84.880241 121.630919 \nL 85.490188 118.598825 \nL 86.710083 117.240007 \nL 88.539924 121.278463 \nL 89.149871 118.710002 \nL 89.759819 118.110734 \nL 90.369766 113.940002 \nL 90.979713 115.237683 \nL 91.58966 118.194548 \nL 92.199607 117.66001 \nL 92.809554 118.792182 \nL 94.639396 117.28286 \nL 95.249343 115.308001 \nL 95.85929 116.375296 \nL 97.079185 115.536235 \nL 97.689132 110.940002 \nL 98.299079 112.009099 \nL 98.909026 110.340002 \nL 100.12892 109.78138 \nL 100.738868 112.078989 \nL 101.348815 113.040008 \nL 101.958762 115.208855 \nL 102.568709 116.088392 \nL 103.178656 114.540002 \nL 103.788603 114.221251 \nL 104.398551 116.238468 \nL 106.228392 118.598825 \nL 106.838339 120.435662 \nL 107.448286 120.06001 \nL 108.058234 121.824513 \nL 109.278128 121.066033 \nL 109.888075 121.72379 \nL 110.498022 120.348007 \nL 111.107969 120.997901 \nL 111.717917 120.649094 \nL 112.327864 119.340001 \nL 112.937811 119.021014 \nL 113.547758 116.820004 \nL 114.157705 118.406673 \nL 115.3776 119.643623 \nL 116.597494 119.043533 \nL 117.207441 119.633034 \nL 118.427335 122.490009 \nL 119.037283 122.171461 \nL 119.64723 123.540001 \nL 120.257177 123.216924 \nL 120.867124 123.722611 \nL 121.477071 123.404525 \nL 122.087018 124.70171 \nL 122.696966 124.380008 \nL 123.306913 125.640006 \nL 125.136754 126.976372 \nL 125.746701 126.648001 \nL 126.966596 128.975294 \nL 127.576543 129.371077 \nL 128.18649 128.305393 \nL 128.796437 129.420003 \nL 129.406384 129.08717 \nL 130.016332 128.05402 \nL 130.626279 129.140004 \nL 131.236226 128.125329 \nL 131.846173 129.190912 \nL 132.45612 128.875135 \nL 133.066067 129.240006 \nL 133.676015 128.260355 \nL 134.285962 125.971588 \nL 134.895909 125.694789 \nL 136.115803 126.447693 \nL 136.72575 124.892544 \nL 137.945645 126.900005 \nL 138.555592 127.25405 \nL 139.165539 126.362955 \nL 139.775486 124.871714 \nL 141.605328 125.940001 \nL 142.215275 125.689607 \nL 142.825222 124.852507 \nL 143.435169 123.442331 \nL 144.045116 122.635388 \nL 144.655064 123.572062 \nL 145.265011 123.349099 \nL 145.874958 122.561059 \nL 147.094852 123.260002 \nL 147.704799 123.045883 \nL 148.314747 123.386725 \nL 149.534641 122.9659 \nL 150.144588 123.840006 \nL 150.754535 123.093197 \nL 151.364482 123.95409 \nL 153.194324 124.901387 \nL 153.804271 124.690693 \nL 154.414218 124.997153 \nL 156.854007 124.179745 \nL 157.463954 124.47948 \nL 158.683848 124.085454 \nL 159.293796 124.380008 \nL 159.903743 125.155385 \nL 161.123637 125.719753 \nL 161.733584 125.045661 \nL 162.953479 124.661741 \nL 164.173373 126.14246 \nL 164.78332 125.947323 \nL 165.393267 126.212733 \nL 166.003214 125.564101 \nL 167.223109 125.190003 \nL 169.05295 125.971588 \nL 170.272845 124.729603 \nL 170.882792 124.553797 \nL 171.492739 125.244009 \nL 172.102686 125.06728 \nL 173.32258 125.569215 \nL 173.932528 126.238328 \nL 174.542475 126.06001 \nL 175.152422 126.719006 \nL 176.982263 127.420438 \nL 177.592211 128.057839 \nL 178.202158 128.281939 \nL 178.812105 128.907917 \nL 179.422052 129.125111 \nL 180.031999 128.540004 \nL 180.641946 128.756849 \nL 181.861841 129.971258 \nL 183.081735 130.381246 \nL 184.911577 132.131881 \nL 185.521524 130.794547 \nL 186.741418 131.18401 \nL 187.351365 130.623585 \nL 187.961312 130.817235 \nL 188.57126 131.381389 \nL 189.791154 130.280489 \nL 190.401101 130.839033 \nL 191.620995 130.48616 \nL 192.230943 131.035702 \nL 192.84089 130.14 \nL 193.450837 129.969388 \nL 194.060784 130.513591 \nL 194.670731 129.632961 \nL 195.280678 129.113835 \nL 195.890626 129.302799 \nL 196.500573 129.840006 \nL 197.11052 130.023878 \nL 197.720467 130.55285 \nL 198.330414 130.386575 \nL 198.940361 130.565456 \nL 199.550309 131.084796 \nL 200.770203 131.431485 \nL 201.38015 130.927499 \nL 201.990097 131.436003 \nL 203.209992 130.441324 \nL 203.819939 130.613694 \nL 205.039833 130.296531 \nL 205.64978 130.794547 \nL 206.259727 130.636551 \nL 206.869675 130.155456 \nL 207.479622 130.324616 \nL 208.089569 130.170642 \nL 208.699516 130.658654 \nL 209.309463 130.504567 \nL 209.91941 130.669412 \nL 211.749252 130.214689 \nL 212.969146 130.540008 \nL 213.579093 130.390822 \nL 214.189041 129.934285 \nL 214.798988 129.788783 \nL 215.408935 130.256607 \nL 216.018882 129.806131 \nL 217.238776 130.125603 \nL 217.848724 130.584629 \nL 219.068618 129.698897 \nL 220.288512 130.01295 \nL 220.898459 129.577502 \nL 221.508407 129.733774 \nL 222.118354 130.181862 \nL 223.338248 130.48616 \nL 223.948195 130.926215 \nL 224.558142 130.785805 \nL 225.16809 130.35902 \nL 225.778037 130.22182 \nL 226.387984 130.656232 \nL 227.607878 130.382699 \nL 228.217825 130.529553 \nL 228.827773 130.39428 \nL 231.267561 130.970769 \nL 231.877508 131.388182 \nL 232.487456 131.527646 \nL 233.097403 131.392181 \nL 233.70735 131.803544 \nL 234.317297 131.396124 \nL 234.927244 131.804524 \nL 236.757086 132.208091 \nL 237.367033 132.073572 \nL 238.586927 132.337901 \nL 239.196874 131.94 \nL 239.806822 132.071714 \nL 240.416769 131.94 \nL 242.856557 130.386575 \nL 244.076452 130.654294 \nL 245.296346 130.407573 \nL 246.51624 130.671552 \nL 247.736135 130.428008 \nL 248.346082 130.558607 \nL 249.565976 131.316242 \nL 250.175923 131.193957 \nL 251.395818 131.445882 \nL 252.005765 131.816882 \nL 252.615712 131.694552 \nL 253.225659 132.06233 \nL 254.445554 131.332283 \nL 255.055501 130.728464 \nL 255.665448 130.853104 \nL 256.275395 131.217715 \nL 256.885342 131.100005 \nL 257.495289 130.743797 \nL 258.105237 130.151356 \nL 258.715184 130.275848 \nL 259.325131 129.451602 \nL 260.545025 129.702626 \nL 261.154972 129.592181 \nL 261.76492 129.716471 \nL 262.374867 128.906666 \nL 262.984814 128.799703 \nL 263.594761 128.461474 \nL 264.814655 129.174149 \nL 266.03455 128.961821 \nL 266.644497 127.943023 \nL 267.254444 127.613503 \nL 267.864391 127.512983 \nL 268.474338 127.639401 \nL 269.694233 127.440006 \nL 270.30418 127.789861 \nL 270.914127 127.91397 \nL 272.134021 127.715296 \nL 272.743969 127.838538 \nL 273.353916 127.74 \nL 273.963863 127.862454 \nL 274.57381 127.764424 \nL 275.183757 128.105221 \nL 275.793704 128.225556 \nL 276.403652 128.127323 \nL 277.623546 128.799027 \nL 278.233493 128.268004 \nL 278.84344 128.601546 \nL 280.063335 128.406297 \nL 280.673282 128.523061 \nL 281.283229 128.213243 \nL 283.11307 127.927714 \nL 283.723018 128.044185 \nL 284.332965 128.37 \nL 284.942912 128.484601 \nL 285.552859 128.389725 \nL 286.162806 128.711901 \nL 286.772753 128.824621 \nL 287.382701 129.143845 \nL 287.992648 129.048203 \nL 288.602595 128.541097 \nL 289.212542 128.653051 \nL 290.432436 128.466487 \nL 291.042384 128.781509 \nL 293.482172 128.412008 \nL 294.092119 128.722986 \nL 295.312014 128.140008 \nL 295.921961 128.249765 \nL 296.531908 128.160004 \nL 297.141855 128.269142 \nL 298.36175 128.090914 \nL 298.971697 128.396259 \nL 300.191591 128.610468 \nL 300.801538 128.521405 \nL 301.411485 128.237948 \nL 302.021433 128.150282 \nL 303.241327 128.749718 \nL 303.851274 128.661433 \nL 304.461221 128.765963 \nL 305.071168 128.678071 \nL 305.681116 128.973424 \nL 306.291063 129.076366 \nL 306.90101 128.988362 \nL 307.510957 128.710853 \nL 309.950746 129.119107 \nL 310.560693 129.032308 \nL 311.17064 129.133076 \nL 312.390534 129.705521 \nL 313.000482 129.618136 \nL 313.610429 129.716471 \nL 314.830323 129.174149 \nL 315.44027 129.272855 \nL 316.050217 129.554566 \nL 317.270112 129.38348 \nL 317.880059 129.662893 \nL 318.490006 129.577502 \nL 319.099953 129.129933 \nL 320.319848 128.962914 \nL 320.929795 129.240006 \nL 321.539742 128.977063 \nL 322.149689 129.252803 \nL 322.759636 128.812342 \nL 323.369583 129.08717 \nL 323.979531 129.004945 \nL 324.589478 129.278037 \nL 325.199425 129.195745 \nL 325.809372 128.937207 \nL 326.419319 129.032308 \nL 327.029266 129.302799 \nL 327.639214 129.045804 \nL 330.079002 128.724833 \nL 330.688949 128.818899 \nL 331.298897 128.566545 \nL 332.518791 128.40971 \nL 333.128738 128.50364 \nL 333.738685 128.425718 \nL 334.95858 127.588313 \nL 335.568527 127.512983 \nL 336.178474 127.268098 \nL 338.618263 127.646465 \nL 339.22821 127.907999 \nL 339.838157 127.330248 \nL 340.448104 127.089566 \nL 341.667998 127.277448 \nL 343.49784 127.059916 \nL 344.107787 126.657914 \nL 344.717734 126.751765 \nL 345.937629 126.610285 \nL 346.547576 126.212733 \nL 347.76747 126.400345 \nL 348.987365 126.261895 \nL 349.597312 126.031227 \nL 350.207259 125.963083 \nL 352.0371 126.723444 \nL 352.647048 126.81458 \nL 353.256995 126.745502 \nL 353.866942 126.83621 \nL 354.476889 127.085691 \nL 355.086836 127.016477 \nL 355.696783 126.630573 \nL 356.916678 126.494906 \nL 358.136572 126.989068 \nL 358.746519 127.07776 \nL 359.966414 126.629255 \nL 361.186308 126.806672 \nL 361.796255 126.584363 \nL 363.016149 126.760868 \nL 363.626097 126.69429 \nL 364.236044 126.47402 \nL 364.845991 126.561957 \nL 365.455938 126.49619 \nL 366.675832 126.670914 \nL 367.28578 126.605328 \nL 367.895727 126.844231 \nL 369.115621 126.107144 \nL 369.725568 125.891999 \nL 369.725568 125.891999 \n\" clip-path=\"url(#p7dde2252c0)\" style=\"fill: none; stroke: #9467bd; stroke-width: 1.5; stroke-linecap: square\"/>\n   </g>\n   <g id=\"line2d_19\">\n    <path d=\"M 65.361932 169.740002 \nL 65.971879 94.140004 \nL 66.581826 144.539999 \nL 67.191773 150.840004 \nL 67.80172 109.26 \nL 68.411668 106.740003 \nL 69.021615 94.140004 \nL 69.631562 113.040008 \nL 70.241509 110.940002 \nL 70.851456 109.26 \nL 71.461403 114.758188 \nL 72.681298 134.847692 \nL 73.291245 121.140001 \nL 74.511139 108.315001 \nL 75.121086 111.928237 \nL 75.731034 102.540003 \nL 76.340981 106.076849 \nL 76.950928 101.700008 \nL 77.560875 101.340003 \nL 78.170822 94.140004 \nL 78.780769 90.853055 \nL 79.390717 97.290001 \nL 80.000664 97.16401 \nL 80.610611 99.955388 \nL 81.220558 105.34001 \nL 83.0504 104.220005 \nL 83.660347 106.333551 \nL 84.270294 110.67751 \nL 84.880241 107.885456 \nL 86.710083 113.040008 \nL 87.32003 114.572434 \nL 88.539924 113.524617 \nL 89.759819 119.954635 \nL 90.979713 122.270235 \nL 91.58966 118.194548 \nL 92.199607 119.340001 \nL 92.809554 117.148702 \nL 93.419502 119.876172 \nL 94.029449 117.765003 \nL 94.639396 117.28286 \nL 95.249343 113.796009 \nL 96.469237 115.9477 \nL 97.079185 115.536235 \nL 98.299079 117.507276 \nL 98.909026 115.740002 \nL 99.518973 115.36106 \nL 100.12892 113.691726 \nL 101.348815 115.560005 \nL 102.568709 112.430331 \nL 103.788603 114.221251 \nL 104.398551 113.912312 \nL 105.008498 114.758188 \nL 106.228392 118.598825 \nL 106.838339 117.148702 \nL 107.448286 117.900006 \nL 108.058234 117.56536 \nL 108.668181 119.340001 \nL 109.278128 116.923565 \nL 110.498022 118.332007 \nL 111.717917 115.740002 \nL 112.327864 116.432309 \nL 112.937811 118.064051 \nL 113.547758 118.710002 \nL 114.157705 117.473334 \nL 116.597494 119.932949 \nL 117.207441 118.753959 \nL 117.817388 115.864145 \nL 118.427335 115.617278 \nL 119.037283 116.2254 \nL 119.64723 115.980008 \nL 120.867124 117.148702 \nL 121.477071 116.901294 \nL 122.087018 115.854896 \nL 122.696966 116.422114 \nL 123.306913 116.190004 \nL 123.91686 115.183305 \nL 125.136754 114.758188 \nL 126.356649 112.85288 \nL 126.966596 113.41059 \nL 127.576543 111.021563 \nL 128.18649 112.313082 \nL 129.406384 113.39661 \nL 130.626279 115.840003 \nL 131.236226 116.334504 \nL 131.846173 114.758188 \nL 132.45612 115.253522 \nL 133.066067 114.390005 \nL 134.895909 115.83392 \nL 135.505856 115.646905 \nL 136.115803 116.109232 \nL 136.72575 115.282384 \nL 137.335698 113.834119 \nL 137.945645 113.670007 \nL 138.555592 114.758188 \nL 139.165539 115.208855 \nL 139.775486 113.808299 \nL 140.385433 114.869038 \nL 140.995381 114.098403 \nL 142.825222 115.402505 \nL 143.435169 115.237683 \nL 144.045116 115.656931 \nL 144.655064 116.646879 \nL 145.265011 117.049094 \nL 146.484905 116.707171 \nL 147.094852 117.66001 \nL 147.704799 116.931181 \nL 148.314747 116.764826 \nL 148.924694 117.148702 \nL 150.144588 116.820004 \nL 150.754535 117.195329 \nL 151.97443 114.758188 \nL 153.194324 114.473796 \nL 154.414218 115.225719 \nL 155.024165 114.572434 \nL 156.24406 114.300006 \nL 156.854007 113.665827 \nL 157.463954 114.034743 \nL 158.073901 114.892943 \nL 159.293796 113.649684 \nL 159.903743 113.524617 \nL 160.51369 112.919627 \nL 161.123637 110.886841 \nL 161.733584 111.256984 \nL 162.343531 111.150009 \nL 163.563426 111.873342 \nL 164.173373 111.764542 \nL 164.78332 112.118057 \nL 165.393267 111.550918 \nL 166.003214 112.35687 \nL 166.613162 111.795093 \nL 167.223109 111.69001 \nL 167.833056 110.244146 \nL 169.05295 110.940002 \nL 169.662897 110.842332 \nL 170.272845 111.619771 \nL 170.882792 111.519319 \nL 172.102686 112.180917 \nL 172.712633 111.224755 \nL 173.32258 110.704051 \nL 174.542475 112.200001 \nL 175.152422 111.682542 \nL 175.762369 112.00154 \nL 176.982263 110.98566 \nL 178.202158 110.804526 \nL 178.812105 110.311129 \nL 179.422052 110.627244 \nL 180.031999 111.34001 \nL 181.251894 110.368278 \nL 181.861841 111.071254 \nL 182.471788 110.591815 \nL 183.081735 111.286398 \nL 183.691682 111.586156 \nL 184.301629 111.111437 \nL 184.911577 110.257777 \nL 185.521524 110.176374 \nL 186.131471 110.85558 \nL 187.351365 110.68926 \nL 187.961312 109.110307 \nL 188.57126 109.408972 \nL 189.181207 110.075302 \nL 189.791154 109.628791 \nL 190.401101 110.287574 \nL 191.011048 109.113923 \nL 193.450837 110.263229 \nL 194.670731 110.111835 \nL 195.280678 109.683935 \nL 195.890626 108.908377 \nL 196.500573 108.490007 \nL 197.11052 108.772259 \nL 197.720467 108.70514 \nL 199.550309 107.481179 \nL 200.160256 107.42109 \nL 200.770203 107.700548 \nL 201.38015 107.3025 \nL 203.209992 107.128553 \nL 203.819939 107.734738 \nL 204.429886 107.015112 \nL 205.039833 106.959135 \nL 205.64978 107.230909 \nL 206.259727 107.174493 \nL 206.869675 107.767475 \nL 207.479622 108.03231 \nL 208.089569 108.616606 \nL 209.309463 108.494434 \nL 209.91941 108.116473 \nL 210.529358 108.057995 \nL 211.139305 107.685002 \nL 212.969146 108.451119 \nL 213.579093 109.012141 \nL 214.189041 109.26 \nL 214.798988 109.198537 \nL 216.628829 110.838806 \nL 217.238776 110.772003 \nL 218.458671 111.240008 \nL 219.068618 111.77005 \nL 219.678565 111.700634 \nL 220.288512 111.928237 \nL 220.898459 111.858753 \nL 222.118354 111.135353 \nL 223.338248 111.586156 \nL 223.948195 111.519319 \nL 224.558142 111.741527 \nL 225.778037 111.608191 \nL 226.387984 112.11283 \nL 226.997931 112.045272 \nL 227.607878 112.544504 \nL 228.217825 112.193737 \nL 228.827773 112.126619 \nL 229.43772 112.340006 \nL 230.657614 112.206185 \nL 231.267561 112.416925 \nL 231.877508 112.902053 \nL 233.097403 113.313923 \nL 233.70735 112.971774 \nL 234.317297 113.447923 \nL 234.927244 113.378709 \nL 235.537191 113.580009 \nL 236.147139 114.048903 \nL 236.757086 113.978304 \nL 237.367033 114.442478 \nL 237.97698 114.637187 \nL 238.586927 114.56527 \nL 239.196874 114.758188 \nL 239.806822 115.213181 \nL 241.026716 115.067341 \nL 241.636663 115.255865 \nL 242.24661 115.183305 \nL 242.856557 114.593433 \nL 244.076452 114.454295 \nL 244.686399 114.641705 \nL 245.296346 115.083247 \nL 245.906293 115.012738 \nL 246.51624 115.196384 \nL 247.126188 115.125954 \nL 247.736135 115.308001 \nL 248.346082 115.740002 \nL 248.956029 115.918815 \nL 249.565976 115.597428 \nL 250.175923 115.526851 \nL 250.785871 115.208855 \nL 252.005765 115.564106 \nL 253.225659 114.936123 \nL 254.445554 115.288557 \nL 255.665448 115.153419 \nL 256.275395 114.845741 \nL 256.885342 114.300006 \nL 258.105237 114.649782 \nL 258.715184 114.347557 \nL 259.325131 114.5212 \nL 260.545025 114.394207 \nL 261.154972 114.566092 \nL 261.76492 114.970966 \nL 262.374867 115.140002 \nL 262.984814 115.540617 \nL 263.594761 115.474975 \nL 264.204708 114.947343 \nL 264.814655 114.883908 \nL 265.424603 115.280435 \nL 266.03455 114.987278 \nL 266.644497 114.924294 \nL 267.864391 115.253522 \nL 268.474338 114.963959 \nL 269.084286 115.353141 \nL 269.694233 115.515 \nL 270.30418 115.22724 \nL 270.914127 115.612197 \nL 272.134021 115.930599 \nL 273.963863 115.740002 \nL 274.57381 115.896983 \nL 275.183757 115.83392 \nL 275.793704 115.989719 \nL 276.403652 115.708876 \nL 277.013599 116.081385 \nL 277.623546 116.235133 \nL 279.453387 116.046823 \nL 280.063335 116.413091 \nL 280.673282 116.56373 \nL 281.283229 116.500566 \nL 282.503123 116.798825 \nL 283.723018 117.514936 \nL 284.942912 117.804274 \nL 285.552859 117.112383 \nL 286.162806 117.465628 \nL 286.772753 116.986155 \nL 287.992648 116.448205 \nL 288.602595 116.799411 \nL 289.822489 116.676586 \nL 290.432436 116.411356 \nL 291.652331 116.291617 \nL 292.262278 116.434912 \nL 292.872225 116.779573 \nL 294.092119 117.061283 \nL 295.921961 118.076679 \nL 296.531908 118.21264 \nL 297.141855 117.951026 \nL 298.36175 118.221472 \nL 299.581644 118.096371 \nL 300.191591 117.838452 \nL 301.411485 118.10598 \nL 302.021433 117.850033 \nL 302.63138 118.176929 \nL 303.241327 117.922097 \nL 304.461221 117.031611 \nL 305.071168 117.165386 \nL 305.681116 117.107088 \nL 306.291063 116.66728 \nL 306.90101 116.800965 \nL 308.120904 115.929484 \nL 308.730851 116.253 \nL 309.340799 116.197856 \nL 309.950746 115.954932 \nL 310.560693 115.900802 \nL 311.17064 116.034059 \nL 311.780587 116.35334 \nL 312.390534 116.484828 \nL 313.610429 116.375296 \nL 315.44027 116.764826 \nL 316.050217 116.526408 \nL 316.660165 116.472211 \nL 317.880059 116.000241 \nL 318.490006 115.584237 \nL 319.099953 115.351519 \nL 319.7099 115.300768 \nL 320.319848 115.430702 \nL 320.929795 115.380008 \nL 321.539742 114.970414 \nL 322.149689 115.10019 \nL 322.759636 115.408093 \nL 323.979531 115.308001 \nL 325.199425 114.854765 \nL 325.809372 114.806358 \nL 326.419319 114.93441 \nL 327.029266 114.886049 \nL 327.639214 115.013324 \nL 328.249161 114.965007 \nL 328.859108 115.091505 \nL 329.469055 115.043233 \nL 330.079002 114.647596 \nL 330.688949 114.080367 \nL 331.298897 114.207744 \nL 331.908844 114.161928 \nL 332.518791 114.288527 \nL 333.128738 114.58637 \nL 333.738685 114.540002 \nL 334.348632 114.835929 \nL 334.95858 114.447908 \nL 335.568527 114.231896 \nL 336.178474 114.186745 \nL 336.788421 114.311305 \nL 338.008315 113.883754 \nL 339.22821 113.796009 \nL 339.838157 113.920051 \nL 340.448104 113.876285 \nL 341.058051 113.498944 \nL 342.887893 113.37159 \nL 343.49784 113.164072 \nL 344.107787 113.122537 \nL 344.717734 112.916472 \nL 346.547576 112.794548 \nL 347.157523 112.917543 \nL 348.377417 112.836782 \nL 348.987365 112.472192 \nL 349.597312 112.756708 \nL 350.207259 112.555387 \nL 350.817206 112.838517 \nL 351.427153 112.798728 \nL 352.0371 112.438092 \nL 352.647048 112.399329 \nL 353.256995 112.200891 \nL 354.476889 112.12485 \nL 355.086836 112.404713 \nL 355.696783 112.524914 \nL 356.306731 112.802772 \nL 356.916678 112.921632 \nL 357.526625 112.725008 \nL 359.356466 112.609573 \nL 360.576361 112.845163 \nL 361.186308 112.80667 \nL 361.796255 112.923581 \nL 362.406202 113.194928 \nL 363.016149 113.155961 \nL 363.626097 112.962863 \nL 364.845991 112.886349 \nL 365.455938 112.694975 \nL 366.065885 112.963482 \nL 367.28578 113.192427 \nL 367.895727 112.697757 \nL 368.505674 112.964102 \nL 369.115621 112.774879 \nL 369.725568 112.737602 \nL 369.725568 112.737602 \n\" clip-path=\"url(#p7dde2252c0)\" style=\"fill: none; stroke: #8c564b; stroke-width: 1.5; stroke-linecap: square\"/>\n   </g>\n   <g id=\"line2d_20\">\n    <path d=\"M 50.14375 119.088005 \nL 384.94375 119.088005 \n\" clip-path=\"url(#p7dde2252c0)\" style=\"fill: none; stroke-dasharray: 5.55,2.4; stroke-dashoffset: 0; stroke: #000000; stroke-width: 1.5\"/>\n   </g>\n   <g id=\"patch_3\">\n    <path d=\"M 50.14375 256.68 \nL 50.14375 7.2 \n\" style=\"fill: none; stroke: #000000; stroke-width: 0.8; stroke-linejoin: miter; stroke-linecap: square\"/>\n   </g>\n   <g id=\"patch_4\">\n    <path d=\"M 384.94375 256.68 \nL 384.94375 7.2 \n\" style=\"fill: none; stroke: #000000; stroke-width: 0.8; stroke-linejoin: miter; stroke-linecap: square\"/>\n   </g>\n   <g id=\"patch_5\">\n    <path d=\"M 50.14375 256.68 \nL 384.94375 256.68 \n\" style=\"fill: none; stroke: #000000; stroke-width: 0.8; stroke-linejoin: miter; stroke-linecap: square\"/>\n   </g>\n   <g id=\"patch_6\">\n    <path d=\"M 50.14375 7.2 \nL 384.94375 7.2 \n\" style=\"fill: none; stroke: #000000; stroke-width: 0.8; stroke-linejoin: miter; stroke-linecap: square\"/>\n   </g>\n   <g id=\"legend_1\">\n    <g id=\"patch_7\">\n     <path d=\"M 302.089063 103.26875 \nL 377.94375 103.26875 \nQ 379.94375 103.26875 379.94375 101.26875 \nL 379.94375 14.2 \nQ 379.94375 12.2 377.94375 12.2 \nL 302.089063 12.2 \nQ 300.089063 12.2 300.089063 14.2 \nL 300.089063 101.26875 \nQ 300.089063 103.26875 302.089063 103.26875 \nz\n\" style=\"fill: #ffffff; opacity: 0.8; stroke: #cccccc; stroke-linejoin: miter\"/>\n    </g>\n    <g id=\"line2d_21\">\n     <path d=\"M 304.089063 20.298437 \nL 314.089063 20.298437 \nL 324.089063 20.298437 \n\" style=\"fill: none; stroke: #1f77b4; stroke-width: 1.5; stroke-linecap: square\"/>\n    </g>\n    <g id=\"text_16\">\n     <!-- P(die=1) -->\n     <g transform=\"translate(332.089063 23.798437) scale(0.1 -0.1)\">\n      <defs>\n       <path id=\"DejaVuSans-50\" d=\"M 1259 4147 \nL 1259 2394 \nL 2053 2394 \nQ 2494 2394 2734 2622 \nQ 2975 2850 2975 3272 \nQ 2975 3691 2734 3919 \nQ 2494 4147 2053 4147 \nL 1259 4147 \nz\nM 628 4666 \nL 2053 4666 \nQ 2838 4666 3239 4311 \nQ 3641 3956 3641 3272 \nQ 3641 2581 3239 2228 \nQ 2838 1875 2053 1875 \nL 1259 1875 \nL 1259 0 \nL 628 0 \nL 628 4666 \nz\n\" transform=\"scale(0.015625)\"/>\n       <path id=\"DejaVuSans-28\" d=\"M 1984 4856 \nQ 1566 4138 1362 3434 \nQ 1159 2731 1159 2009 \nQ 1159 1288 1364 580 \nQ 1569 -128 1984 -844 \nL 1484 -844 \nQ 1016 -109 783 600 \nQ 550 1309 550 2009 \nQ 550 2706 781 3412 \nQ 1013 4119 1484 4856 \nL 1984 4856 \nz\n\" transform=\"scale(0.015625)\"/>\n       <path id=\"DejaVuSans-3d\" d=\"M 678 2906 \nL 4684 2906 \nL 4684 2381 \nL 678 2381 \nL 678 2906 \nz\nM 678 1631 \nL 4684 1631 \nL 4684 1100 \nL 678 1100 \nL 678 1631 \nz\n\" transform=\"scale(0.015625)\"/>\n       <path id=\"DejaVuSans-29\" d=\"M 513 4856 \nL 1013 4856 \nQ 1481 4119 1714 3412 \nQ 1947 2706 1947 2009 \nQ 1947 1309 1714 600 \nQ 1481 -109 1013 -844 \nL 513 -844 \nQ 928 -128 1133 580 \nQ 1338 1288 1338 2009 \nQ 1338 2731 1133 3434 \nQ 928 4138 513 4856 \nz\n\" transform=\"scale(0.015625)\"/>\n      </defs>\n      <use xlink:href=\"#DejaVuSans-50\"/>\n      <use xlink:href=\"#DejaVuSans-28\" x=\"60.302734\"/>\n      <use xlink:href=\"#DejaVuSans-64\" x=\"99.316406\"/>\n      <use xlink:href=\"#DejaVuSans-69\" x=\"162.792969\"/>\n      <use xlink:href=\"#DejaVuSans-65\" x=\"190.576172\"/>\n      <use xlink:href=\"#DejaVuSans-3d\" x=\"252.099609\"/>\n      <use xlink:href=\"#DejaVuSans-31\" x=\"335.888672\"/>\n      <use xlink:href=\"#DejaVuSans-29\" x=\"399.511719\"/>\n     </g>\n    </g>\n    <g id=\"line2d_22\">\n     <path d=\"M 304.089063 34.976562 \nL 314.089063 34.976562 \nL 324.089063 34.976562 \n\" style=\"fill: none; stroke: #ff7f0e; stroke-width: 1.5; stroke-linecap: square\"/>\n    </g>\n    <g id=\"text_17\">\n     <!-- P(die=2) -->\n     <g transform=\"translate(332.089063 38.476562) scale(0.1 -0.1)\">\n      <use xlink:href=\"#DejaVuSans-50\"/>\n      <use xlink:href=\"#DejaVuSans-28\" x=\"60.302734\"/>\n      <use xlink:href=\"#DejaVuSans-64\" x=\"99.316406\"/>\n      <use xlink:href=\"#DejaVuSans-69\" x=\"162.792969\"/>\n      <use xlink:href=\"#DejaVuSans-65\" x=\"190.576172\"/>\n      <use xlink:href=\"#DejaVuSans-3d\" x=\"252.099609\"/>\n      <use xlink:href=\"#DejaVuSans-32\" x=\"335.888672\"/>\n      <use xlink:href=\"#DejaVuSans-29\" x=\"399.511719\"/>\n     </g>\n    </g>\n    <g id=\"line2d_23\">\n     <path d=\"M 304.089063 49.654687 \nL 314.089063 49.654687 \nL 324.089063 49.654687 \n\" style=\"fill: none; stroke: #2ca02c; stroke-width: 1.5; stroke-linecap: square\"/>\n    </g>\n    <g id=\"text_18\">\n     <!-- P(die=3) -->\n     <g transform=\"translate(332.089063 53.154687) scale(0.1 -0.1)\">\n      <use xlink:href=\"#DejaVuSans-50\"/>\n      <use xlink:href=\"#DejaVuSans-28\" x=\"60.302734\"/>\n      <use xlink:href=\"#DejaVuSans-64\" x=\"99.316406\"/>\n      <use xlink:href=\"#DejaVuSans-69\" x=\"162.792969\"/>\n      <use xlink:href=\"#DejaVuSans-65\" x=\"190.576172\"/>\n      <use xlink:href=\"#DejaVuSans-3d\" x=\"252.099609\"/>\n      <use xlink:href=\"#DejaVuSans-33\" x=\"335.888672\"/>\n      <use xlink:href=\"#DejaVuSans-29\" x=\"399.511719\"/>\n     </g>\n    </g>\n    <g id=\"line2d_24\">\n     <path d=\"M 304.089063 64.332812 \nL 314.089063 64.332812 \nL 324.089063 64.332812 \n\" style=\"fill: none; stroke: #d62728; stroke-width: 1.5; stroke-linecap: square\"/>\n    </g>\n    <g id=\"text_19\">\n     <!-- P(die=4) -->\n     <g transform=\"translate(332.089063 67.832812) scale(0.1 -0.1)\">\n      <use xlink:href=\"#DejaVuSans-50\"/>\n      <use xlink:href=\"#DejaVuSans-28\" x=\"60.302734\"/>\n      <use xlink:href=\"#DejaVuSans-64\" x=\"99.316406\"/>\n      <use xlink:href=\"#DejaVuSans-69\" x=\"162.792969\"/>\n      <use xlink:href=\"#DejaVuSans-65\" x=\"190.576172\"/>\n      <use xlink:href=\"#DejaVuSans-3d\" x=\"252.099609\"/>\n      <use xlink:href=\"#DejaVuSans-34\" x=\"335.888672\"/>\n      <use xlink:href=\"#DejaVuSans-29\" x=\"399.511719\"/>\n     </g>\n    </g>\n    <g id=\"line2d_25\">\n     <path d=\"M 304.089063 79.010937 \nL 314.089063 79.010937 \nL 324.089063 79.010937 \n\" style=\"fill: none; stroke: #9467bd; stroke-width: 1.5; stroke-linecap: square\"/>\n    </g>\n    <g id=\"text_20\">\n     <!-- P(die=5) -->\n     <g transform=\"translate(332.089063 82.510937) scale(0.1 -0.1)\">\n      <use xlink:href=\"#DejaVuSans-50\"/>\n      <use xlink:href=\"#DejaVuSans-28\" x=\"60.302734\"/>\n      <use xlink:href=\"#DejaVuSans-64\" x=\"99.316406\"/>\n      <use xlink:href=\"#DejaVuSans-69\" x=\"162.792969\"/>\n      <use xlink:href=\"#DejaVuSans-65\" x=\"190.576172\"/>\n      <use xlink:href=\"#DejaVuSans-3d\" x=\"252.099609\"/>\n      <use xlink:href=\"#DejaVuSans-35\" x=\"335.888672\"/>\n      <use xlink:href=\"#DejaVuSans-29\" x=\"399.511719\"/>\n     </g>\n    </g>\n    <g id=\"line2d_26\">\n     <path d=\"M 304.089063 93.689062 \nL 314.089063 93.689062 \nL 324.089063 93.689062 \n\" style=\"fill: none; stroke: #8c564b; stroke-width: 1.5; stroke-linecap: square\"/>\n    </g>\n    <g id=\"text_21\">\n     <!-- P(die=6) -->\n     <g transform=\"translate(332.089063 97.189062) scale(0.1 -0.1)\">\n      <defs>\n       <path id=\"DejaVuSans-36\" d=\"M 2113 2584 \nQ 1688 2584 1439 2293 \nQ 1191 2003 1191 1497 \nQ 1191 994 1439 701 \nQ 1688 409 2113 409 \nQ 2538 409 2786 701 \nQ 3034 994 3034 1497 \nQ 3034 2003 2786 2293 \nQ 2538 2584 2113 2584 \nz\nM 3366 4563 \nL 3366 3988 \nQ 3128 4100 2886 4159 \nQ 2644 4219 2406 4219 \nQ 1781 4219 1451 3797 \nQ 1122 3375 1075 2522 \nQ 1259 2794 1537 2939 \nQ 1816 3084 2150 3084 \nQ 2853 3084 3261 2657 \nQ 3669 2231 3669 1497 \nQ 3669 778 3244 343 \nQ 2819 -91 2113 -91 \nQ 1303 -91 875 529 \nQ 447 1150 447 2328 \nQ 447 3434 972 4092 \nQ 1497 4750 2381 4750 \nQ 2619 4750 2861 4703 \nQ 3103 4656 3366 4563 \nz\n\" transform=\"scale(0.015625)\"/>\n      </defs>\n      <use xlink:href=\"#DejaVuSans-50\"/>\n      <use xlink:href=\"#DejaVuSans-28\" x=\"60.302734\"/>\n      <use xlink:href=\"#DejaVuSans-64\" x=\"99.316406\"/>\n      <use xlink:href=\"#DejaVuSans-69\" x=\"162.792969\"/>\n      <use xlink:href=\"#DejaVuSans-65\" x=\"190.576172\"/>\n      <use xlink:href=\"#DejaVuSans-3d\" x=\"252.099609\"/>\n      <use xlink:href=\"#DejaVuSans-36\" x=\"335.888672\"/>\n      <use xlink:href=\"#DejaVuSans-29\" x=\"399.511719\"/>\n     </g>\n    </g>\n   </g>\n  </g>\n </g>\n <defs>\n  <clipPath id=\"p7dde2252c0\">\n   <rect x=\"50.14375\" y=\"7.2\" width=\"334.8\" height=\"249.48\"/>\n  </clipPath>\n </defs>\n</svg>\n"
     },
     "metadata": {},
     "output_type": "display_data"
    }
   ],
   "execution_count": 8
  },
  {
   "metadata": {},
   "cell_type": "code",
   "outputs": [],
   "execution_count": null,
   "source": "",
   "id": "7ae5bc15e6e3c0a5"
  }
 ],
 "metadata": {
  "kernelspec": {
   "display_name": "Python 3 (ipykernel)",
   "language": "python",
   "name": "python3"
  },
  "language_info": {
   "codemirror_mode": {
    "name": "ipython",
    "version": 3
   },
   "file_extension": ".py",
   "mimetype": "text/x-python",
   "name": "python",
   "nbconvert_exporter": "python",
   "pygments_lexer": "ipython3",
   "version": "3.8.19"
  }
 },
 "nbformat": 4,
 "nbformat_minor": 5
}
